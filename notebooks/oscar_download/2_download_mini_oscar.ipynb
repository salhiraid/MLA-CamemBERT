{
 "cells": [
  {
   "cell_type": "markdown",
   "id": "cdcd56ce-153c-401a-a79b-d20ede4ff8cd",
   "metadata": {},
   "source": [
    "## Preparing Data for Training CamemBERT\n",
    "\n",
    "### Context\n",
    "We aim to train CamemBERT using the French OSCAR dataset. As mentioned in the original CamemBERT paper, reducing the training dataset size (e.g., from 138GB to 4GB) still provides meaningful results, although with a slight performance drop.\n",
    "\n",
    "In this project, we downloaded **308GB** of French text from OSCAR. To make the training manageable and comparable, we limit the dataset size to **4GB**.\n",
    "\n",
    "### Objective\n",
    "Create a random subset of **4GB** from the **308GB** dataset while minimizing the risk of overfitting. To avoid the model learning biases from specific topics, we shuffle the data and select a representative sample.\n",
    "\n",
    "### Methodology\n",
    "\n",
    "1. **Dataset Download**: We used Hugging Face's `datasets` library to download the French OSCAR dataset.\n",
    "   - Total number of examples: **52,037,098**.\n",
    "   - Total size: **308GB**.\n",
    "\n",
    "2. **Calculating the Ratio**:\n",
    "   To reduce the dataset to **4GB**, we compute the ratio:\n",
    "   $$\n",
    "   \\text{ratio} = \\frac{4}{308} \\approx 0.013\n",
    "   $$\n",
    "   This corresponds to approximately **1.3%** of the dataset, or **676,482 examples** out of the **52 million**.\n",
    "\n",
    "3. **Selection Process**:\n",
    "   - Shuffle the dataset to ensure randomness.\n",
    "   - Select **676,482 examples** to create a dataset of approximately **4GB**.\n",
    "\n",
    "4. **Saving the Subset**:\n",
    "   - The selected data is saved in an efficient format:\n",
    "     - **Arrow**: Optimized for direct use with Hugging Face.\n",
    "     - **Parquet**: Suitable for general-purpose processing.\n",
    "\n",
    "### Pipeline Steps\n",
    "- Shuffle the full dataset.\n",
    "- Randomly select **676,482 examples** corresponding to **4GB**.\n",
    "- Save the subset in a compact format.\n",
    "\n",
    "### Verification\n",
    "After saving, we verify the final dataset size in **GB** to ensure it aligns with the target size of **4GB**.\n",
    "\n",
    "---\n",
    "\n",
    "This reduction ensures faster training while preserving the diversity and quality needed to avoid biases and overfitting. The resulting mini-dataset will be used for pretraining or fine-tuning CamemBERT.\n",
    "___\n"
   ]
  },
  {
   "cell_type": "markdown",
   "id": "f6f6e563-9481-48c8-a3c7-8c8fa580e4b4",
   "metadata": {},
   "source": [
    "## 1. Load the full dataset :"
   ]
  },
  {
   "cell_type": "code",
   "execution_count": null,
   "id": "008293ac",
   "metadata": {},
   "outputs": [],
   "source": [
    "from huggingface_hub import whoami\n",
    "user_info = whoami()\n",
    "print(f\"Vous êtes connecté en tant que : {user_info['name']}\")"
   ]
  },
  {
   "cell_type": "code",
   "execution_count": 11,
   "id": "ac2d748e-6468-439c-b377-483d4bb2aff4",
   "metadata": {},
   "outputs": [
    {
     "data": {
      "application/vnd.jupyter.widget-view+json": {
       "model_id": "142f08b9e1a2464e8a8eabeabd107a6d",
       "version_major": 2,
       "version_minor": 0
      },
      "text/plain": [
       "Loading dataset shards:   0%|          | 0/658 [00:00<?, ?it/s]"
      ]
     },
     "metadata": {},
     "output_type": "display_data"
    }
   ],
   "source": [
    "from datasets import load_dataset\n",
    "\n",
    "dataset = load_dataset(\"oscar-corpus/OSCAR-2201\",\n",
    "                        #use_auth_token=True, # the method doesn't accept the param\n",
    "                        language=\"fr\", \n",
    "                        streaming=False, # download locally\n",
    "                        split=\"train\",\n",
    "                        cache_dir='CamemBERT/data',\n",
    "                        trust_remote_code=True) # optional"
   ]
  },
  {
   "cell_type": "markdown",
   "id": "ce9cd164-1996-4934-aea6-283cb366b782",
   "metadata": {},
   "source": [
    "## 2. Shuffle :"
   ]
  },
  {
   "cell_type": "code",
   "execution_count": 3,
   "id": "7f2cba49-ed20-4f8f-a3d2-bd551690ed18",
   "metadata": {},
   "outputs": [
    {
     "name": "stdout",
     "output_type": "stream",
     "text": [
      "Nombre d'exemples dans le mini-dataset : 676482\n"
     ]
    }
   ],
   "source": [
    "import random\n",
    "\n",
    "shuffled_dataset = dataset.shuffle(seed=42)\n",
    "num_examples_needed = 676482  # Nombre d'exemples pour environ 4GB\n",
    "\n",
    "mini_dataset = shuffled_dataset.select(range(num_examples_needed))\n",
    "print(f\"Nombre d'exemples dans le mini-dataset : {len(mini_dataset)}\")"
   ]
  },
  {
   "cell_type": "code",
   "execution_count": 5,
   "id": "27e49950-5df6-4f7c-8cee-78a4ce128ef3",
   "metadata": {},
   "outputs": [
    {
     "data": {
      "application/vnd.jupyter.widget-view+json": {
       "model_id": "a4df57519c884a26916260a65ec78f50",
       "version_major": 2,
       "version_minor": 0
      },
      "text/plain": [
       "Saving the dataset (0/9 shards):   0%|          | 0/676482 [00:00<?, ? examples/s]"
      ]
     },
     "metadata": {},
     "output_type": "display_data"
    },
    {
     "name": "stdout",
     "output_type": "stream",
     "text": [
      "Mini-dataset sauvegardé au format Arrow\n"
     ]
    }
   ],
   "source": [
    "# Sauvegarder en Arrow (recommandé pour Hugging Face)\n",
    "mini_dataset.save_to_disk(\"CamemBERT/data/mini_oscar/mini_dataset.arrow\")\n",
    "print(\"Mini-dataset sauvegardé au format Arrow\")"
   ]
  },
  {
   "cell_type": "markdown",
   "id": "8da15896-ae12-4622-b213-7ced5cabff36",
   "metadata": {},
   "source": [
    "**Load dataset**"
   ]
  },
  {
   "cell_type": "code",
   "execution_count": 15,
   "id": "3e39e8af-0494-4644-b51b-555dcc816a66",
   "metadata": {},
   "outputs": [
    {
     "name": "stdout",
     "output_type": "stream",
     "text": [
      "Nombre d'exemples : 676482\n"
     ]
    }
   ],
   "source": [
    "from datasets import load_from_disk\n",
    "\n",
    "# Load the Dataset :\n",
    "dataset_path = \"CamemBERT/data/mini_oscar/mini_dataset.arrow\"  # Remplacez par le chemin réel\n",
    "dataset = load_from_disk(dataset_path)\n",
    "\n",
    "# Show dataset info :\n",
    "print(f\"Nombre d'exemples : {len(dataset)}\")\n"
   ]
  },
  {
   "cell_type": "markdown",
   "id": "8b7584ed-cf33-4502-b185-50faf4c751ff",
   "metadata": {},
   "source": [
    "**Check Size**"
   ]
  },
  {
   "cell_type": "code",
   "execution_count": 16,
   "id": "c4b5f870-c00c-4e3a-a516-2f203626545d",
   "metadata": {},
   "outputs": [
    {
     "name": "stdout",
     "output_type": "stream",
     "text": [
      "Taille totale du dataset en cache : 4.00 GB\n"
     ]
    }
   ],
   "source": [
    "import os\n",
    "cache_files = dataset.cache_files\n",
    "# Get size in Bytes\n",
    "total_size_bytes = sum(os.path.getsize(file[\"filename\"]) for file in cache_files)\n",
    "# Convert to GB\n",
    "total_size_gb = total_size_bytes / (1024 ** 3)\n",
    "print(f\"Taille totale du dataset en cache : {total_size_gb:.2f} GB\")"
   ]
  },
  {
   "cell_type": "code",
   "execution_count": 21,
   "id": "a9a999c7-ae04-4ff1-ac81-5454bd773bb6",
   "metadata": {},
   "outputs": [
    {
     "data": {
      "text/plain": [
       "Dataset({\n",
       "    features: ['id', 'text', 'meta'],\n",
       "    num_rows: 10\n",
       "})"
      ]
     },
     "execution_count": 21,
     "metadata": {},
     "output_type": "execute_result"
    }
   ],
   "source": [
    "mini_dataset = dataset.select(range(10))\n",
    "mini_dataset"
   ]
  },
  {
   "cell_type": "code",
   "execution_count": 18,
   "id": "3b04c6c5-36d5-4064-b88a-2e3e739a498f",
   "metadata": {},
   "outputs": [],
   "source": [
    "pandas_df = dataset.to_pandas()"
   ]
  },
  {
   "cell_type": "code",
   "execution_count": 20,
   "id": "ac317420-323d-48a0-9bf7-dbca4c36d897",
   "metadata": {},
   "outputs": [
    {
     "data": {
      "text/html": [
       "<div>\n",
       "<style scoped>\n",
       "    .dataframe tbody tr th:only-of-type {\n",
       "        vertical-align: middle;\n",
       "    }\n",
       "\n",
       "    .dataframe tbody tr th {\n",
       "        vertical-align: top;\n",
       "    }\n",
       "\n",
       "    .dataframe thead th {\n",
       "        text-align: right;\n",
       "    }\n",
       "</style>\n",
       "<table border=\"1\" class=\"dataframe\">\n",
       "  <thead>\n",
       "    <tr style=\"text-align: right;\">\n",
       "      <th></th>\n",
       "      <th>id</th>\n",
       "      <th>text</th>\n",
       "      <th>meta</th>\n",
       "    </tr>\n",
       "  </thead>\n",
       "  <tbody>\n",
       "    <tr>\n",
       "      <th>0</th>\n",
       "      <td>50771362</td>\n",
       "      <td>Gardez l’œil sur toutes les images publiées su...</td>\n",
       "      <td>{'warc_headers': {'warc-record-id': '&lt;urn:uuid...</td>\n",
       "    </tr>\n",
       "    <tr>\n",
       "      <th>1</th>\n",
       "      <td>35841498</td>\n",
       "      <td>Feeder métal avec levier de serrage manuel, ve...</td>\n",
       "      <td>{'warc_headers': {'warc-record-id': '&lt;urn:uuid...</td>\n",
       "    </tr>\n",
       "    <tr>\n",
       "      <th>2</th>\n",
       "      <td>44962099</td>\n",
       "      <td>Audio Lingua - mp3 en anglais, allemand, arabe...</td>\n",
       "      <td>{'warc_headers': {'warc-record-id': '&lt;urn:uuid...</td>\n",
       "    </tr>\n",
       "    <tr>\n",
       "      <th>3</th>\n",
       "      <td>31392137</td>\n",
       "      <td>La troisième prestation est une revue ponctuel...</td>\n",
       "      <td>{'warc_headers': {'warc-record-id': '&lt;urn:uuid...</td>\n",
       "    </tr>\n",
       "    <tr>\n",
       "      <th>4</th>\n",
       "      <td>26786817</td>\n",
       "      <td>Les machines à café Dolce Gusto sont les modèl...</td>\n",
       "      <td>{'warc_headers': {'warc-record-id': '&lt;urn:uuid...</td>\n",
       "    </tr>\n",
       "  </tbody>\n",
       "</table>\n",
       "</div>"
      ],
      "text/plain": [
       "         id                                               text  \\\n",
       "0  50771362  Gardez l’œil sur toutes les images publiées su...   \n",
       "1  35841498  Feeder métal avec levier de serrage manuel, ve...   \n",
       "2  44962099  Audio Lingua - mp3 en anglais, allemand, arabe...   \n",
       "3  31392137  La troisième prestation est une revue ponctuel...   \n",
       "4  26786817  Les machines à café Dolce Gusto sont les modèl...   \n",
       "\n",
       "                                                meta  \n",
       "0  {'warc_headers': {'warc-record-id': '<urn:uuid...  \n",
       "1  {'warc_headers': {'warc-record-id': '<urn:uuid...  \n",
       "2  {'warc_headers': {'warc-record-id': '<urn:uuid...  \n",
       "3  {'warc_headers': {'warc-record-id': '<urn:uuid...  \n",
       "4  {'warc_headers': {'warc-record-id': '<urn:uuid...  "
      ]
     },
     "execution_count": 20,
     "metadata": {},
     "output_type": "execute_result"
    }
   ],
   "source": [
    "pandas_df.head()"
   ]
  }
 ],
 "metadata": {
  "kernelspec": {
   "display_name": "Python 3",
   "language": "python",
   "name": "python3"
  },
  "language_info": {
   "codemirror_mode": {
    "name": "ipython",
    "version": 3
   },
   "file_extension": ".py",
   "mimetype": "text/x-python",
   "name": "python",
   "nbconvert_exporter": "python",
   "pygments_lexer": "ipython3",
   "version": "3.11.10"
  }
 },
 "nbformat": 4,
 "nbformat_minor": 5
}

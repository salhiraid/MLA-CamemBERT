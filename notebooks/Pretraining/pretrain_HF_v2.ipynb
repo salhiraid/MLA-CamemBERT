{
 "cells": [
  {
   "cell_type": "code",
   "execution_count": 1,
   "metadata": {},
   "outputs": [],
   "source": [
    "from datasets import load_dataset\n",
    "\n",
    "# Load the OSCAR dataset in streaming mode\n",
    "dataset = load_dataset(\"oscar\", \"unshuffled_deduplicated_fr\", split=\"train\", streaming=True)\n",
    "\n",
    "# Limit the dataset size to approximately 4GB\n",
    "subset_size = 4 * 1024**3  # 4GB in bytes\n",
    "current_size = 0\n",
    "subset = []\n",
    "\n",
    "for example in dataset:\n",
    "    text = example[\"text\"]  # Only use the \"text\" field\n",
    "    current_size += len(text.encode(\"utf-8\"))  # Estimate size in bytes\n",
    "    subset.append(text)  # Keep only the text\n",
    "    if current_size >= subset_size:\n",
    "        break"
   ]
  },
  {
   "cell_type": "code",
   "execution_count": 2,
   "metadata": {},
   "outputs": [],
   "source": [
    "# Save the subset to a text file\n",
    "with open(\"oscar_text_subset.txt\", \"w\", encoding=\"utf-8\") as f:\n",
    "    for line in subset:\n",
    "        f.write(line + \"\\n\")\n"
   ]
  },
  {
   "cell_type": "code",
   "execution_count": 3,
   "metadata": {},
   "outputs": [],
   "source": [
    "# Reload the text-only dataset\n",
    "with open(\"oscar_text_subset.txt\", \"r\", encoding=\"utf-8\") as f:\n",
    "    subset = [line.strip() for line in f]\n"
   ]
  },
  {
   "cell_type": "code",
   "execution_count": 4,
   "metadata": {},
   "outputs": [],
   "source": [
    "from transformers import CamembertTokenizer\n",
    "\n",
    "# Load CamemBERT tokenizer\n",
    "tokenizer = CamembertTokenizer.from_pretrained(\"camembert-base\")\n",
    "\n",
    "# Tokenize the text data\n",
    "tokenized_data = [tokenizer(text, truncation=True, max_length=512) for text in subset]\n"
   ]
  },
  {
   "cell_type": "code",
   "execution_count": 5,
   "metadata": {},
   "outputs": [
    {
     "name": "stderr",
     "output_type": "stream",
     "text": [
      "2024-12-26 17:42:48.512319: E external/local_xla/xla/stream_executor/cuda/cuda_fft.cc:477] Unable to register cuFFT factory: Attempting to register factory for plugin cuFFT when one has already been registered\n",
      "WARNING: All log messages before absl::InitializeLog() is called are written to STDERR\n",
      "E0000 00:00:1735231368.585828  903259 cuda_dnn.cc:8310] Unable to register cuDNN factory: Attempting to register factory for plugin cuDNN when one has already been registered\n",
      "E0000 00:00:1735231368.607699  903259 cuda_blas.cc:1418] Unable to register cuBLAS factory: Attempting to register factory for plugin cuBLAS when one has already been registered\n",
      "2024-12-26 17:42:48.689516: I tensorflow/core/platform/cpu_feature_guard.cc:210] This TensorFlow binary is optimized to use available CPU instructions in performance-critical operations.\n",
      "To enable the following instructions: AVX2 FMA, in other operations, rebuild TensorFlow with the appropriate compiler flags.\n"
     ]
    }
   ],
   "source": [
    "from transformers import DataCollatorForLanguageModeling\n",
    "from torch.utils.data import DataLoader\n",
    "\n",
    "# Data collator for MLM\n",
    "data_collator = DataCollatorForLanguageModeling(\n",
    "    tokenizer=tokenizer, mlm=True, mlm_probability=0.15\n",
    ")\n",
    "\n",
    "# Convert tokenized data into a PyTorch DataLoader\n",
    "dataloader = DataLoader(tokenized_data, batch_size=8, shuffle=True, collate_fn=data_collator)\n"
   ]
  },
  {
   "cell_type": "code",
   "execution_count": null,
   "metadata": {},
   "outputs": [
    {
     "name": "stderr",
     "output_type": "stream",
     "text": [
      "2025-01-01 22:53:47.346759: E external/local_xla/xla/stream_executor/cuda/cuda_fft.cc:477] Unable to register cuFFT factory: Attempting to register factory for plugin cuFFT when one has already been registered\n",
      "WARNING: All log messages before absl::InitializeLog() is called are written to STDERR\n",
      "E0000 00:00:1735768427.541985 3040077 cuda_dnn.cc:8310] Unable to register cuDNN factory: Attempting to register factory for plugin cuDNN when one has already been registered\n",
      "E0000 00:00:1735768427.699910 3040077 cuda_blas.cc:1418] Unable to register cuBLAS factory: Attempting to register factory for plugin cuBLAS when one has already been registered\n",
      "2025-01-01 22:53:49.570292: I tensorflow/core/platform/cpu_feature_guard.cc:210] This TensorFlow binary is optimized to use available CPU instructions in performance-critical operations.\n",
      "To enable the following instructions: AVX2 FMA, in other operations, rebuild TensorFlow with the appropriate compiler flags.\n"
     ]
    },
    {
     "name": "stdout",
     "output_type": "stream",
     "text": [
      "Loading the OSCAR dataset...\n",
      "Converting limited dataset to Hugging Face Dataset...\n",
      "Splitting dataset into train and validation sets...\n",
      "Initializing tokenizer and model...\n"
     ]
    },
    {
     "name": "stderr",
     "output_type": "stream",
     "text": [
      "Some weights of the model checkpoint at camembert-base were not used when initializing CamembertForMaskedLM: ['roberta.pooler.dense.bias', 'roberta.pooler.dense.weight']\n",
      "- This IS expected if you are initializing CamembertForMaskedLM from the checkpoint of a model trained on another task or with another architecture (e.g. initializing a BertForSequenceClassification model from a BertForPreTraining model).\n",
      "- This IS NOT expected if you are initializing CamembertForMaskedLM from the checkpoint of a model that you expect to be exactly identical (initializing a BertForSequenceClassification model from a BertForSequenceClassification model).\n"
     ]
    },
    {
     "name": "stdout",
     "output_type": "stream",
     "text": [
      "Reinitializing model weights...\n",
      "Tokenizing datasets...\n"
     ]
    },
    {
     "data": {
      "application/vnd.jupyter.widget-view+json": {
       "model_id": "e4a7f0ff5f514e158a2f3ddc025bb03e",
       "version_major": 2,
       "version_minor": 0
      },
      "text/plain": [
       "Map:   0%|          | 0/738747 [00:00<?, ? examples/s]"
      ]
     },
     "metadata": {},
     "output_type": "display_data"
    },
    {
     "data": {
      "application/vnd.jupyter.widget-view+json": {
       "model_id": "948e3e3764ed4eb6892f925dfd9e4321",
       "version_major": 2,
       "version_minor": 0
      },
      "text/plain": [
       "Map:   0%|          | 0/38882 [00:00<?, ? examples/s]"
      ]
     },
     "metadata": {},
     "output_type": "display_data"
    },
    {
     "name": "stdout",
     "output_type": "stream",
     "text": [
      "Initializing Trainer...\n"
     ]
    },
    {
     "name": "stderr",
     "output_type": "stream",
     "text": [
      "max_steps is given, it will override any value given in num_train_epochs\n"
     ]
    },
    {
     "name": "stdout",
     "output_type": "stream",
     "text": [
      "Starting training...\n"
     ]
    },
    {
     "data": {
      "text/html": [
       "\n",
       "    <div>\n",
       "      \n",
       "      <progress value='1171' max='10000' style='width:300px; height:20px; vertical-align: middle;'></progress>\n",
       "      [ 1171/10000 11:55:24 < 90:03:14, 0.03 it/s, Epoch 6.49/56]\n",
       "    </div>\n",
       "    <table border=\"1\" class=\"dataframe\">\n",
       "  <thead>\n",
       " <tr style=\"text-align: left;\">\n",
       "      <th>Step</th>\n",
       "      <th>Training Loss</th>\n",
       "      <th>Validation Loss</th>\n",
       "    </tr>\n",
       "  </thead>\n",
       "  <tbody>\n",
       "    <tr>\n",
       "      <td>100</td>\n",
       "      <td>10.053400</td>\n",
       "      <td>9.508634</td>\n",
       "    </tr>\n",
       "    <tr>\n",
       "      <td>200</td>\n",
       "      <td>9.261600</td>\n",
       "      <td>8.962401</td>\n",
       "    </tr>\n",
       "    <tr>\n",
       "      <td>300</td>\n",
       "      <td>8.728000</td>\n",
       "      <td>8.428139</td>\n",
       "    </tr>\n",
       "    <tr>\n",
       "      <td>400</td>\n",
       "      <td>8.188900</td>\n",
       "      <td>7.934975</td>\n",
       "    </tr>\n",
       "    <tr>\n",
       "      <td>500</td>\n",
       "      <td>7.789600</td>\n",
       "      <td>7.693579</td>\n",
       "    </tr>\n",
       "    <tr>\n",
       "      <td>600</td>\n",
       "      <td>7.680900</td>\n",
       "      <td>7.675951</td>\n",
       "    </tr>\n",
       "    <tr>\n",
       "      <td>700</td>\n",
       "      <td>7.673200</td>\n",
       "      <td>7.675043</td>\n",
       "    </tr>\n",
       "    <tr>\n",
       "      <td>800</td>\n",
       "      <td>7.669200</td>\n",
       "      <td>7.670251</td>\n",
       "    </tr>\n",
       "    <tr>\n",
       "      <td>900</td>\n",
       "      <td>7.664900</td>\n",
       "      <td>7.665514</td>\n",
       "    </tr>\n",
       "    <tr>\n",
       "      <td>1000</td>\n",
       "      <td>7.661300</td>\n",
       "      <td>7.661201</td>\n",
       "    </tr>\n",
       "    <tr>\n",
       "      <td>1100</td>\n",
       "      <td>7.657500</td>\n",
       "      <td>7.661423</td>\n",
       "    </tr>\n",
       "  </tbody>\n",
       "</table><p>"
      ],
      "text/plain": [
       "<IPython.core.display.HTML object>"
      ]
     },
     "metadata": {},
     "output_type": "display_data"
    },
    {
     "name": "stderr",
     "output_type": "stream",
     "text": [
      "IOPub message rate exceeded.\n",
      "The Jupyter server will temporarily stop sending output\n",
      "to the client in order to avoid crashing it.\n",
      "To change this limit, set the config variable\n",
      "`--ServerApp.iopub_msg_rate_limit`.\n",
      "\n",
      "Current values:\n",
      "ServerApp.iopub_msg_rate_limit=1000.0 (msgs/sec)\n",
      "ServerApp.rate_limit_window=3.0 (secs)\n",
      "\n",
      "IOPub message rate exceeded.\n",
      "The Jupyter server will temporarily stop sending output\n",
      "to the client in order to avoid crashing it.\n",
      "To change this limit, set the config variable\n",
      "`--ServerApp.iopub_msg_rate_limit`.\n",
      "\n",
      "Current values:\n",
      "ServerApp.iopub_msg_rate_limit=1000.0 (msgs/sec)\n",
      "ServerApp.rate_limit_window=3.0 (secs)\n",
      "\n"
     ]
    }
   ],
   "source": [
    "import torch\n",
    "from transformers import (\n",
    "    CamembertTokenizer,\n",
    "    CamembertForMaskedLM,\n",
    "    TrainingArguments,\n",
    "    Trainer,\n",
    "    DataCollatorForLanguageModeling,\n",
    ")\n",
    "from datasets import load_dataset, Dataset, DatasetDict\n",
    "from torch import nn\n",
    "\n",
    "# Reinitialize weights function\n",
    "def reinitialize_weights(module):\n",
    "    if isinstance(module, (nn.Linear, nn.Embedding)):\n",
    "        module.reset_parameters()\n",
    "    elif isinstance(module, nn.LayerNorm):\n",
    "        module.reset_parameters()\n",
    "    elif hasattr(module, \"weight\") and module.weight is not None:\n",
    "        nn.init.xavier_uniform_(module.weight)  # Xavier initialization\n",
    "    if hasattr(module, \"bias\") and module.bias is not None:\n",
    "        nn.init.zeros_(module.bias)\n",
    "\n",
    "\n",
    "# Step 1: Load Dataset with a 4GB limitation\n",
    "print(\"Loading the OSCAR dataset...\")\n",
    "dataset = load_dataset(\n",
    "    \"oscar-corpus/OSCAR-2201\",\n",
    "    split=\"train\",\n",
    "    language=\"fr\",\n",
    "    streaming=True,\n",
    "    trust_remote_code=True,\n",
    ")\n",
    "\n",
    "# Limit to 4GB of text\n",
    "def limit_dataset(dataset, limit_gb=4):\n",
    "    current_size = 0\n",
    "    byte_limit = limit_gb * 1024 ** 3\n",
    "    for example in dataset:\n",
    "        text_size = len(example[\"text\"].encode(\"utf-8\"))\n",
    "        if current_size + text_size > byte_limit:\n",
    "            break\n",
    "        current_size += text_size\n",
    "        yield example\n",
    "\n",
    "limited_dataset = list(limit_dataset(dataset, limit_gb=4))\n",
    "\n",
    "# Convert to Hugging Face Dataset\n",
    "print(\"Converting limited dataset to Hugging Face Dataset...\")\n",
    "limited_dataset = Dataset.from_dict({\"text\": [example[\"text\"] for example in limited_dataset]})\n",
    "\n",
    "# Split into train and validation sets (95% train, 5% validation)\n",
    "print(\"Splitting dataset into train and validation sets...\")\n",
    "oscar_dataset = limited_dataset.train_test_split(test_size=0.05, seed=42)\n",
    "\n",
    "# Step 2: Initialize Tokenizer and Model\n",
    "print(\"Initializing tokenizer and model...\")\n",
    "tokenizer = CamembertTokenizer.from_pretrained(\"camembert-base\")\n",
    "model = CamembertForMaskedLM.from_pretrained(\"camembert-base\")\n",
    "\n",
    "# Step 3: Reinitialize Model Weights\n",
    "print(\"Reinitializing model weights...\")\n",
    "model.apply(reinitialize_weights)\n",
    "\n",
    "# Step 4: Tokenize Dataset\n",
    "def tokenize_function(examples):\n",
    "    return tokenizer(\n",
    "        examples[\"text\"], \n",
    "        padding=\"max_length\", \n",
    "        truncation=True, \n",
    "        max_length=512\n",
    "    )\n",
    "\n",
    "print(\"Tokenizing datasets...\")\n",
    "tokenized_datasets = oscar_dataset.map(tokenize_function, batched=True, remove_columns=[\"text\"])\n",
    "\n",
    "# Step 5: TrainingArguments\n",
    "training_args = TrainingArguments(\n",
    "    output_dir=\"./camembert-pretraining-checkpoints\",\n",
    "    eval_strategy=\"steps\",\n",
    "    eval_steps=100,\n",
    "    save_steps=100,\n",
    "    logging_steps=100,\n",
    "    per_device_train_batch_size=64,\n",
    "    per_device_eval_batch_size=64,\n",
    "    learning_rate=6e-4,\n",
    "    weight_decay=0.01,\n",
    "    warmup_steps=24000,\n",
    "    max_steps=10000,\n",
    "    report_to=\"tensorboard\",\n",
    "    save_total_limit=2,\n",
    "    gradient_accumulation_steps=64,\n",
    "    fp16=True,\n",
    "    logging_dir=\"./logs-trainer-CamemBert\",\n",
    ")\n",
    "\n",
    "# Step 6: Trainer\n",
    "print(\"Initializing Trainer...\")\n",
    "data_collator = DataCollatorForLanguageModeling(\n",
    "    tokenizer=tokenizer,\n",
    "    mlm=True,\n",
    "    mlm_probability=0.15,\n",
    ")\n",
    "trainer = Trainer(\n",
    "    model=model,\n",
    "    args=training_args,\n",
    "    train_dataset=tokenized_datasets[\"train\"],\n",
    "    eval_dataset=tokenized_datasets[\"test\"],\n",
    "    data_collator=data_collator,\n",
    ")\n",
    "\n",
    "# Step 7: Train the Model\n",
    "print(\"Starting training...\")\n",
    "trainer.train()\n"
   ]
  },
  {
   "cell_type": "code",
   "execution_count": null,
   "metadata": {},
   "outputs": [],
   "source": []
  }
 ],
 "metadata": {
  "kernelspec": {
   "display_name": "Python 3 (ipykernel)",
   "language": "python",
   "name": "python3"
  },
  "language_info": {
   "codemirror_mode": {
    "name": "ipython",
    "version": 3
   },
   "file_extension": ".py",
   "mimetype": "text/x-python",
   "name": "python",
   "nbconvert_exporter": "python",
   "pygments_lexer": "ipython3",
   "version": "3.10.12"
  }
 },
 "nbformat": 4,
 "nbformat_minor": 4
}

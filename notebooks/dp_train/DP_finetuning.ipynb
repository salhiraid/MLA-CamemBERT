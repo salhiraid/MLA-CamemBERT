{
 "cells": [
  {
   "cell_type": "code",
   "execution_count": 16,
   "id": "a55ca55e-ce7f-476f-beaa-fbbfd29ac363",
   "metadata": {},
   "outputs": [],
   "source": [
    "import torch\n",
    "from torch.utils.data import DataLoader, RandomSampler, SequentialSampler\n",
    "from transformers import (\n",
    "    AutoTokenizer,\n",
    "    CamembertForTokenClassification,\n",
    "    AdamW,\n",
    "    DataCollatorForTokenClassification\n",
    ")\n",
    "from datasets import load_dataset\n",
    "import matplotlib.pyplot as plt\n",
    "import os\n"
   ]
  },
  {
   "cell_type": "code",
   "execution_count": 17,
   "id": "7e755254-9a51-450f-b05c-f41052023825",
   "metadata": {},
   "outputs": [
    {
     "name": "stdout",
     "output_type": "stream",
     "text": [
      "Dataset splits:\n",
      " DatasetDict({\n",
      "    train: Dataset({\n",
      "        features: ['idx', 'text', 'tokens', 'lemmas', 'upos', 'xpos', 'feats', 'head', 'deprel', 'deps', 'misc'],\n",
      "        num_rows: 14759\n",
      "    })\n",
      "    validation: Dataset({\n",
      "        features: ['idx', 'text', 'tokens', 'lemmas', 'upos', 'xpos', 'feats', 'head', 'deprel', 'deps', 'misc'],\n",
      "        num_rows: 1235\n",
      "    })\n",
      "    test: Dataset({\n",
      "        features: ['idx', 'text', 'tokens', 'lemmas', 'upos', 'xpos', 'feats', 'head', 'deprel', 'deps', 'misc'],\n",
      "        num_rows: 2541\n",
      "    })\n",
      "})\n"
     ]
    }
   ],
   "source": [
    "\n",
    "############################################################################\n",
    "# 1) Load the UD French Sequoia dataset\n",
    "############################################################################\n",
    "\n",
    "dataset = load_dataset(\"universal_dependencies\", \"fr_ftb\", trust_remote_code=True) # Switch the name of the dataset:  fr_gsd, fr_partut, fr_sequoia\n",
    "\n",
    "print(\"Dataset splits:\\n\", dataset)  # train, validation, test"
   ]
  },
  {
   "cell_type": "code",
   "execution_count": 3,
   "id": "52128c29-b917-4973-a22a-a472b77eac33",
   "metadata": {},
   "outputs": [],
   "source": [
    "deprel_feature = dataset[\"train\"].features[\"deprel\"]\n",
    "all_label_strings = deprel_feature.feature"
   ]
  },
  {
   "cell_type": "code",
   "execution_count": 5,
   "id": "a72d012a-e356-46b6-8bb2-326839c48bd4",
   "metadata": {},
   "outputs": [
    {
     "name": "stdout",
     "output_type": "stream",
     "text": [
      "\n",
      "Dependency relation labels (string) => ['_', 'acl', 'acl:relcl', 'advcl', 'advcl:cleft', 'advmod', 'amod', 'appos', 'aux:caus', 'aux:pass', 'aux:tense', 'case', 'cc', 'ccomp:agent', 'ccomp:obj', 'ccomp:obl', 'ccomp:pred', 'conj', 'cop', 'csubj', 'csubj:pass', 'dep', 'dep:comp', 'det', 'discourse', 'dislocated', 'expl:pass', 'expl:subj', 'fixed', 'flat', 'flat:foreign', 'flat:name', 'goeswith', 'iobj', 'iobj:agent', 'mark', 'nmod', 'nsubj', 'nsubj:caus', 'nsubj:pass', 'nummod', 'obj', 'obj:agent', 'obj:lvc', 'obl', 'obl:agent', 'obl:arg', 'obl:mod', 'orphan', 'parataxis', 'punct', 'reparandum', 'root', 'vocative', 'xcomp:obj', 'xcomp:obl', 'xcomp:pred']\n",
      "Number of distinct deprel labels: 57\n"
     ]
    }
   ],
   "source": [
    "############################################################################\n",
    "# 2) Inspect the dependency relation (deprel) labels\n",
    "############################################################################\n",
    "# Extract all unique labels from the dataset\n",
    "unique_labels = set()\n",
    "for split in [\"train\", \"validation\", \"test\"]:\n",
    "    for example in dataset[split][\"deprel\"]:\n",
    "        unique_labels.update(example)\n",
    "\n",
    "# Create sorted list of labels and mappings\n",
    "all_label_strings = sorted(list(unique_labels))\n",
    "num_labels = len(all_label_strings)\n",
    "\n",
    "id2label = {i: label for i, label in enumerate(all_label_strings)}\n",
    "label2id = {label: i for i, label in enumerate(all_label_strings)}\n",
    "\n",
    "print(\"\\nDependency relation labels (string) =>\", all_label_strings)\n",
    "print(\"Number of distinct deprel labels:\", num_labels)\n"
   ]
  },
  {
   "cell_type": "code",
   "execution_count": 6,
   "id": "f9de36ac-f17b-4626-90ff-6fd7d95b78fb",
   "metadata": {},
   "outputs": [],
   "source": [
    "\n",
    "############################################################################\n",
    "# 3) Define the CamemBERT tokenizer\n",
    "############################################################################\n",
    "tokenizer = AutoTokenizer.from_pretrained(\"camembert-base\")\n"
   ]
  },
  {
   "cell_type": "code",
   "execution_count": 7,
   "id": "7e782e09-c0e9-4f18-af22-dbcda7d70cc4",
   "metadata": {},
   "outputs": [],
   "source": [
    "def tokenize_and_align_labels(examples):\n",
    "    \"\"\"\n",
    "    Align dependency relation labels (deprel) with tokenized inputs.\n",
    "    \"\"\"\n",
    "    tokenized_inputs = tokenizer(\n",
    "        examples[\"tokens\"],\n",
    "        is_split_into_words=True,\n",
    "        truncation=True\n",
    "    )\n",
    "\n",
    "    all_labels = []\n",
    "    for i in range(len(examples[\"tokens\"])):\n",
    "        word_ids = tokenized_inputs.word_ids(batch_index=i)\n",
    "        labels = []\n",
    "        for word_id in word_ids:\n",
    "            if word_id is None:\n",
    "                labels.append(-100)  # special tokens\n",
    "            else:\n",
    "                # Map deprel string labels to integer IDs using label2id\n",
    "                deprel_label = examples[\"deprel\"][i][word_id]\n",
    "                labels.append(label2id[deprel_label])\n",
    "        all_labels.append(labels)\n",
    "\n",
    "    tokenized_inputs[\"labels\"] = all_labels\n",
    "    return tokenized_inputs\n"
   ]
  },
  {
   "cell_type": "code",
   "execution_count": 8,
   "id": "bb9058a7-4a28-4d28-985e-962f6d93ab67",
   "metadata": {},
   "outputs": [
    {
     "data": {
      "application/vnd.jupyter.widget-view+json": {
       "model_id": "5ad9276edd6a4abbbf96f65564a73325",
       "version_major": 2,
       "version_minor": 0
      },
      "text/plain": [
       "Map:   0%|          | 0/1476 [00:00<?, ? examples/s]"
      ]
     },
     "metadata": {},
     "output_type": "display_data"
    }
   ],
   "source": [
    "\n",
    "############################################################################\n",
    "# 5) Apply the function to the dataset\n",
    "############################################################################\n",
    "tokenized_dataset = dataset.map(\n",
    "    tokenize_and_align_labels,\n",
    "    batched=True\n",
    ")"
   ]
  },
  {
   "cell_type": "code",
   "execution_count": 9,
   "id": "c261fb4b-c942-4232-861c-f5c22e7fcbf7",
   "metadata": {},
   "outputs": [
    {
     "name": "stdout",
     "output_type": "stream",
     "text": [
      "\n",
      "Sample tokenized entry from train set:\n",
      "{'input_ids': tensor([    5,    74,  2177, 12873,    10, 18232,    10,    56,  1758,    86,\n",
      "        17873,    29,    44,  1382,    46,    11,    91,    19, 11811,  8791,\n",
      "          838,    79,    13,  9721,    21,     9,     6]), 'attention_mask': tensor([1, 1, 1, 1, 1, 1, 1, 1, 1, 1, 1, 1, 1, 1, 1, 1, 1, 1, 1, 1, 1, 1, 1, 1,\n",
      "        1, 1, 1]), 'labels': tensor([-100,   23,   37,   37,   37,    6,    6,   10,   52,    5,   56,   11,\n",
      "          23,   47,   35,   35,   37,   41,   14,   14,    5,   11,   23,   56,\n",
      "          50,   50, -100])}\n"
     ]
    }
   ],
   "source": [
    "\n",
    "\n",
    "############################################################################\n",
    "# 6) Convert to PyTorch format\n",
    "############################################################################\n",
    "tokenized_dataset.set_format(\n",
    "    type=\"torch\",\n",
    "    columns=[\"input_ids\", \"attention_mask\", \"labels\"]\n",
    ")\n",
    "\n",
    "print(\"\\nSample tokenized entry from train set:\")\n",
    "print(tokenized_dataset[\"train\"][0])"
   ]
  },
  {
   "cell_type": "code",
   "execution_count": 10,
   "id": "9860d297-a274-46fa-9c54-5b3ea364c598",
   "metadata": {},
   "outputs": [
    {
     "name": "stderr",
     "output_type": "stream",
     "text": [
      "Some weights of CamembertForTokenClassification were not initialized from the model checkpoint at camembert-base and are newly initialized: ['classifier.bias', 'classifier.weight']\n",
      "You should probably TRAIN this model on a down-stream task to be able to use it for predictions and inference.\n"
     ]
    }
   ],
   "source": [
    "\n",
    "\n",
    "############################################################################\n",
    "# 7) Define the model, set readable label mappings\n",
    "############################################################################\n",
    "model = CamembertForTokenClassification.from_pretrained(\n",
    "    \"camembert-base\",\n",
    "    num_labels=num_labels\n",
    ")\n",
    "model.config.id2label = id2label\n",
    "model.config.label2id = label2id"
   ]
  },
  {
   "cell_type": "code",
   "execution_count": 11,
   "id": "11ed6847-f7b8-4289-9c31-7f6864db0d72",
   "metadata": {},
   "outputs": [],
   "source": [
    "\n",
    "\n",
    "############################################################################\n",
    "# 8) Create DataLoaders (batching) for train, validation, and test\n",
    "############################################################################\n",
    "train_dataset = tokenized_dataset[\"train\"]\n",
    "val_dataset   = tokenized_dataset[\"validation\"]\n",
    "test_dataset  = tokenized_dataset[\"test\"]\n",
    "\n",
    "batch_size = 32\n",
    "\n",
    "data_collator = DataCollatorForTokenClassification(\n",
    "    tokenizer=tokenizer,\n",
    "    padding=True\n",
    ")\n",
    "\n",
    "train_dataloader = DataLoader(\n",
    "    train_dataset,\n",
    "    sampler=RandomSampler(train_dataset),\n",
    "    batch_size=batch_size,\n",
    "    collate_fn=data_collator\n",
    ")\n",
    "\n",
    "val_dataloader = DataLoader(\n",
    "    val_dataset,\n",
    "    sampler=SequentialSampler(val_dataset),\n",
    "    batch_size=batch_size,\n",
    "    collate_fn=data_collator\n",
    ")\n",
    "\n",
    "test_dataloader = DataLoader(\n",
    "    test_dataset,\n",
    "    sampler=SequentialSampler(test_dataset),\n",
    "    batch_size=batch_size,\n",
    "    collate_fn=data_collator\n",
    ")\n"
   ]
  },
  {
   "cell_type": "code",
   "execution_count": 12,
   "id": "f719cf78-d98e-44e0-9e66-cd74856fc3ac",
   "metadata": {},
   "outputs": [
    {
     "name": "stderr",
     "output_type": "stream",
     "text": [
      "/home/amine/.local/lib/python3.10/site-packages/transformers/optimization.py:591: FutureWarning: This implementation of AdamW is deprecated and will be removed in a future version. Use the PyTorch implementation torch.optim.AdamW instead, or set `no_deprecation_warning=True` to disable this warning\n",
      "  warnings.warn(\n"
     ]
    }
   ],
   "source": [
    "from transformers import get_scheduler\n",
    "from tqdm import tqdm\n",
    "\n",
    "############################################################################\n",
    "# 9) Define optimizer, scheduler, and training settings\n",
    "############################################################################\n",
    "learning_rate = 2e-5\n",
    "num_epochs = 20\n",
    "optimizer = AdamW(model.parameters(), lr=learning_rate)\n",
    "\n",
    "# scheduler\n",
    "num_training_steps = num_epochs * len(train_dataloader)\n",
    "scheduler = get_scheduler(\n",
    "    \"linear\", optimizer=optimizer, num_warmup_steps=0, num_training_steps=num_training_steps\n",
    ")\n",
    "\n",
    "device = torch.device(\"cuda\" if torch.cuda.is_available() else \"cpu\")\n",
    "model.to(device)\n",
    "\n",
    "############################################################################\n",
    "# 10) Training Loop with validation accuracy\n",
    "############################################################################\n",
    "train_losses = []\n",
    "val_losses = []\n",
    "val_accuracies = []\n",
    "\n"
   ]
  },
  {
   "cell_type": "code",
   "execution_count": 13,
   "id": "6cc64158-faad-40c1-ad42-356c32ba56fb",
   "metadata": {},
   "outputs": [
    {
     "name": "stderr",
     "output_type": "stream",
     "text": [
      "Training Epoch 1/5: 100%|██████████| 452/452 [00:52<00:00,  8.54it/s]\n",
      "Validating: 100%|██████████| 47/47 [00:01<00:00, 27.97it/s]\n"
     ]
    },
    {
     "name": "stdout",
     "output_type": "stream",
     "text": [
      "Epoch 1/5 | Train Loss: 2.5126 | Val Loss: 1.5972 | Val Acc: 0.8778\n"
     ]
    },
    {
     "name": "stderr",
     "output_type": "stream",
     "text": [
      "Training Epoch 2/5: 100%|██████████| 452/452 [00:52<00:00,  8.69it/s]\n",
      "Validating: 100%|██████████| 47/47 [00:01<00:00, 28.43it/s]\n"
     ]
    },
    {
     "name": "stdout",
     "output_type": "stream",
     "text": [
      "Epoch 2/5 | Train Loss: 1.3557 | Val Loss: 1.0033 | Val Acc: 0.9139\n"
     ]
    },
    {
     "name": "stderr",
     "output_type": "stream",
     "text": [
      "Training Epoch 3/5: 100%|██████████| 452/452 [00:52<00:00,  8.66it/s]\n",
      "Validating: 100%|██████████| 47/47 [00:01<00:00, 28.23it/s]\n"
     ]
    },
    {
     "name": "stdout",
     "output_type": "stream",
     "text": [
      "Epoch 3/5 | Train Loss: 0.9196 | Val Loss: 0.7234 | Val Acc: 0.9358\n"
     ]
    },
    {
     "name": "stderr",
     "output_type": "stream",
     "text": [
      "Training Epoch 4/5: 100%|██████████| 452/452 [00:52<00:00,  8.63it/s]\n",
      "Validating: 100%|██████████| 47/47 [00:01<00:00, 28.18it/s]\n"
     ]
    },
    {
     "name": "stdout",
     "output_type": "stream",
     "text": [
      "Epoch 4/5 | Train Loss: 0.7148 | Val Loss: 0.6034 | Val Acc: 0.9416\n"
     ]
    },
    {
     "name": "stderr",
     "output_type": "stream",
     "text": [
      "Training Epoch 5/5: 100%|██████████| 452/452 [00:52<00:00,  8.68it/s]\n",
      "Validating: 100%|██████████| 47/47 [00:01<00:00, 28.38it/s]"
     ]
    },
    {
     "name": "stdout",
     "output_type": "stream",
     "text": [
      "Epoch 5/5 | Train Loss: 0.6316 | Val Loss: 0.5681 | Val Acc: 0.9441\n"
     ]
    },
    {
     "name": "stderr",
     "output_type": "stream",
     "text": [
      "\n"
     ]
    }
   ],
   "source": [
    "\n",
    "for epoch in range(num_epochs):\n",
    "    # ------------------------- Training -------------------------\n",
    "    model.train()\n",
    "    total_loss = 0.0\n",
    "\n",
    "    for batch in tqdm(train_dataloader, desc=f\"Training Epoch {epoch+1}/{num_epochs}\"):\n",
    "        batch = {k: v.to(device) for k, v in batch.items()}\n",
    "\n",
    "        outputs = model(\n",
    "            input_ids=batch[\"input_ids\"],\n",
    "            attention_mask=batch[\"attention_mask\"],\n",
    "            labels=batch[\"labels\"]\n",
    "        )\n",
    "        loss = outputs.loss\n",
    "\n",
    "        optimizer.zero_grad()\n",
    "        loss.backward()\n",
    "        optimizer.step()\n",
    "        scheduler.step()  # Update the learning rate\n",
    "\n",
    "        total_loss += loss.item()\n",
    "\n",
    "    avg_train_loss = total_loss / len(train_dataloader)\n",
    "    train_losses.append(avg_train_loss)\n",
    "\n",
    "    # ------------------------- Validation -------------------------\n",
    "    model.eval()\n",
    "    val_loss = 0.0\n",
    "    val_correct = 0\n",
    "    val_total = 0\n",
    "\n",
    "    for batch in tqdm(val_dataloader, desc=\"Validating\"):\n",
    "        with torch.no_grad():\n",
    "            batch = {k: v.to(device) for k, v in batch.items()}\n",
    "            outputs = model(**batch)\n",
    "\n",
    "            val_loss += outputs.loss.item()\n",
    "\n",
    "            logits = outputs.logits\n",
    "            preds = logits.argmax(dim=-1)\n",
    "            labels = batch[\"labels\"]\n",
    "\n",
    "            mask = labels != -100\n",
    "            val_correct += (preds[mask] == labels[mask]).sum().item()\n",
    "            val_total += mask.sum().item()\n",
    "\n",
    "    avg_val_loss = val_loss / len(val_dataloader)\n",
    "    val_accuracy = val_correct / val_total if val_total > 0 else 0.0\n",
    "\n",
    "    val_losses.append(avg_val_loss)\n",
    "    val_accuracies.append(val_accuracy)\n",
    "\n",
    "    print(f\"Epoch {epoch+1}/{num_epochs} | \"\n",
    "          f\"Train Loss: {avg_train_loss:.4f} | \"\n",
    "          f\"Val Loss: {avg_val_loss:.4f} | \"\n",
    "          f\"Val Acc: {val_accuracy:.4f}\")"
   ]
  },
  {
   "cell_type": "code",
   "execution_count": null,
   "id": "71f34c95-25ed-4666-925b-b6fa6b1cfe67",
   "metadata": {},
   "outputs": [],
   "source": [
    "print(label_counts)\n",
    "print(label2id)\n"
   ]
  },
  {
   "cell_type": "code",
   "execution_count": 14,
   "id": "e189f536-dc55-46de-b08b-171a7eb3bbd9",
   "metadata": {},
   "outputs": [
    {
     "name": "stdout",
     "output_type": "stream",
     "text": [
      "\n",
      "Final Test Loss: 0.6497 | Test Accuracy: 0.9259\n"
     ]
    }
   ],
   "source": [
    "\n",
    "\n",
    "############################################################################\n",
    "# 11) Evaluate on Test Set\n",
    "############################################################################\n",
    "model.eval()\n",
    "test_loss = 0.0\n",
    "test_correct = 0\n",
    "test_total   = 0\n",
    "\n",
    "with torch.no_grad():\n",
    "    for batch in test_dataloader:\n",
    "        batch = {k: v.to(device) for k, v in batch.items()}\n",
    "        outputs = model(**batch)\n",
    "\n",
    "        test_loss += outputs.loss.item()\n",
    "\n",
    "        logits = outputs.logits\n",
    "        preds = logits.argmax(dim=-1)\n",
    "        labels = batch[\"labels\"]\n",
    "\n",
    "        mask = labels != -100\n",
    "        test_correct += (preds[mask] == labels[mask]).sum().item()\n",
    "        test_total   += mask.sum().item()\n",
    "\n",
    "avg_test_loss = test_loss / len(test_dataloader)\n",
    "test_accuracy = test_correct / test_total if test_total > 0 else 0.0\n",
    "\n",
    "print(f\"\\nFinal Test Loss: {avg_test_loss:.4f} | Test Accuracy: {test_accuracy:.4f}\")\n"
   ]
  },
  {
   "cell_type": "code",
   "execution_count": 31,
   "id": "5bfb47c5-6f0c-4372-936d-f3b6e328d50c",
   "metadata": {},
   "outputs": [
    {
     "name": "stdout",
     "output_type": "stream",
     "text": [
      "\n",
      "Model and tokenizer saved to: ./my_camembert_deprel_model_partut\n"
     ]
    }
   ],
   "source": [
    "\n",
    "############################################################################\n",
    "# 12) Save the Model + Tokenizer\n",
    "############################################################################\n",
    "save_directory = \"./my_camembert_deprel_model_partut\"\n",
    "os.makedirs(save_directory, exist_ok=True)\n",
    "\n",
    "model.save_pretrained(save_directory)\n",
    "tokenizer.save_pretrained(save_directory)\n",
    "\n",
    "print(f\"\\nModel and tokenizer saved to: {save_directory}\")\n"
   ]
  },
  {
   "cell_type": "code",
   "execution_count": 15,
   "id": "177d574e-d080-446b-8361-77491efdeb4d",
   "metadata": {},
   "outputs": [
    {
     "data": {
      "image/png": "[encoded data removed]",
      "text/plain": [
       "<Figure size 800x600 with 1 Axes>"
      ]
     },
     "metadata": {},
     "output_type": "display_data"
    },
    {
     "data": {
      "image/png": "[encoded data removed]",
      "text/plain": [
       "<Figure size 800x600 with 1 Axes>"
      ]
     },
     "metadata": {},
     "output_type": "display_data"
    }
   ],
   "source": [
    "\n",
    "############################################################################\n",
    "# 13) Plot Training & Validation Loss\n",
    "############################################################################\n",
    "epochs_range = range(1, num_epochs + 1)\n",
    "\n",
    "plt.figure(figsize=(8, 6))\n",
    "plt.plot(epochs_range, train_losses, label='Train Loss', marker='o')\n",
    "plt.plot(epochs_range, val_losses,   label='Val Loss', marker='o')\n",
    "plt.title(\"Training & Validation Loss per Epoch\")\n",
    "plt.xlabel(\"Epoch\")\n",
    "plt.ylabel(\"Loss\")\n",
    "plt.legend()\n",
    "plt.grid(True)\n",
    "plt.savefig(\"loss_plot_gsd.png\")\n",
    "plt.show()\n",
    "\n",
    "plt.figure(figsize=(8, 6))\n",
    "plt.plot(epochs_range, val_accuracies, label='Val Accuracy', marker='o', color='green')\n",
    "plt.title(\"Validation Accuracy per Epoch\")\n",
    "plt.xlabel(\"Epoch\")\n",
    "plt.ylabel(\"Accuracy\")\n",
    "plt.ylim([0, 1])\n",
    "plt.grid(True)\n",
    "plt.legend()\n",
    "plt.savefig(\"accuracy_plot_gsd.png\")\n",
    "plt.show()\n"
   ]
  },
  {
   "cell_type": "code",
   "execution_count": null,
   "id": "42f482de-4162-45cb-852a-f23d60f43014",
   "metadata": {},
   "outputs": [],
   "source": []
  },
  {
   "cell_type": "code",
   "execution_count": null,
   "id": "2b1e60ad-3bc5-404a-b0d9-6080a94ac4ae",
   "metadata": {},
   "outputs": [],
   "source": []
  }
 ],
 "metadata": {
  "kernelspec": {
   "display_name": "Python 3 (ipykernel)",
   "language": "python",
   "name": "python3"
  },
  "language_info": {
   "codemirror_mode": {
    "name": "ipython",
    "version": 3
   },
   "file_extension": ".py",
   "mimetype": "text/x-python",
   "name": "python",
   "nbconvert_exporter": "python",
   "pygments_lexer": "ipython3",
   "version": "3.10.12"
  }
 },
 "nbformat": 4,
 "nbformat_minor": 5
}

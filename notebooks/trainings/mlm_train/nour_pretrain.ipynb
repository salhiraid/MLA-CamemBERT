{
 "cells": [
  {
   "cell_type": "code",
   "execution_count": 1,
   "metadata": {},
   "outputs": [
    {
     "data": {
      "text/plain": [
       "'c:\\\\Users\\\\Napster\\\\Desktop\\\\M2_ISI\\\\MLA\\\\CamemBERT\\\\MLA-CamemBERT'"
      ]
     },
     "execution_count": 1,
     "metadata": {},
     "output_type": "execute_result"
    }
   ],
   "source": [
    "import os\n",
    "import sys\n",
    "os.chdir(os.path.abspath(\"../../../\"))\n",
    "os.getcwd()"
   ]
  },
  {
   "cell_type": "markdown",
   "metadata": {},
   "source": [
    "1. discover the camembert models :"
   ]
  },
  {
   "cell_type": "code",
   "execution_count": 6,
   "metadata": {},
   "outputs": [],
   "source": [
    "from transformers import (\n",
    "    CamembertForMaskedLM, \n",
    "    CamembertModel, \n",
    "    CamembertForSequenceClassification,\n",
    "    CamembertForMultipleChoice,\n",
    "    CamembertForTokenClassification,\n",
    "    ) "
   ]
  },
  {
   "cell_type": "code",
   "execution_count": 7,
   "metadata": {},
   "outputs": [
    {
     "data": {
      "text/plain": [
       "CamembertModel(\n",
       "  (embeddings): CamembertEmbeddings(\n",
       "    (word_embeddings): Embedding(32005, 768, padding_idx=1)\n",
       "    (position_embeddings): Embedding(514, 768, padding_idx=1)\n",
       "    (token_type_embeddings): Embedding(1, 768)\n",
       "    (LayerNorm): LayerNorm((768,), eps=1e-05, elementwise_affine=True)\n",
       "    (dropout): Dropout(p=0.1, inplace=False)\n",
       "  )\n",
       "  (encoder): CamembertEncoder(\n",
       "    (layer): ModuleList(\n",
       "      (0-11): 12 x CamembertLayer(\n",
       "        (attention): CamembertAttention(\n",
       "          (self): CamembertSdpaSelfAttention(\n",
       "            (query): Linear(in_features=768, out_features=768, bias=True)\n",
       "            (key): Linear(in_features=768, out_features=768, bias=True)\n",
       "            (value): Linear(in_features=768, out_features=768, bias=True)\n",
       "            (dropout): Dropout(p=0.1, inplace=False)\n",
       "          )\n",
       "          (output): CamembertSelfOutput(\n",
       "            (dense): Linear(in_features=768, out_features=768, bias=True)\n",
       "            (LayerNorm): LayerNorm((768,), eps=1e-05, elementwise_affine=True)\n",
       "            (dropout): Dropout(p=0.1, inplace=False)\n",
       "          )\n",
       "        )\n",
       "        (intermediate): CamembertIntermediate(\n",
       "          (dense): Linear(in_features=768, out_features=3072, bias=True)\n",
       "          (intermediate_act_fn): GELUActivation()\n",
       "        )\n",
       "        (output): CamembertOutput(\n",
       "          (dense): Linear(in_features=3072, out_features=768, bias=True)\n",
       "          (LayerNorm): LayerNorm((768,), eps=1e-05, elementwise_affine=True)\n",
       "          (dropout): Dropout(p=0.1, inplace=False)\n",
       "        )\n",
       "      )\n",
       "    )\n",
       "  )\n",
       "  (pooler): CamembertPooler(\n",
       "    (dense): Linear(in_features=768, out_features=768, bias=True)\n",
       "    (activation): Tanh()\n",
       "  )\n",
       ")"
      ]
     },
     "execution_count": 7,
     "metadata": {},
     "output_type": "execute_result"
    }
   ],
   "source": [
    "model = CamembertModel.from_pretrained('camembert-base')\n",
    "model"
   ]
  },
  {
   "cell_type": "code",
   "execution_count": 11,
   "metadata": {},
   "outputs": [
    {
     "name": "stderr",
     "output_type": "stream",
     "text": [
      "Some weights of the model checkpoint at camembert-base were not used when initializing CamembertForMaskedLM: ['roberta.pooler.dense.bias', 'roberta.pooler.dense.weight']\n",
      "- This IS expected if you are initializing CamembertForMaskedLM from the checkpoint of a model trained on another task or with another architecture (e.g. initializing a BertForSequenceClassification model from a BertForPreTraining model).\n",
      "- This IS NOT expected if you are initializing CamembertForMaskedLM from the checkpoint of a model that you expect to be exactly identical (initializing a BertForSequenceClassification model from a BertForSequenceClassification model).\n"
     ]
    },
    {
     "data": {
      "text/plain": [
       "CamembertForMaskedLM(\n",
       "  (roberta): CamembertModel(\n",
       "    (embeddings): CamembertEmbeddings(\n",
       "      (word_embeddings): Embedding(32005, 768, padding_idx=1)\n",
       "      (position_embeddings): Embedding(514, 768, padding_idx=1)\n",
       "      (token_type_embeddings): Embedding(1, 768)\n",
       "      (LayerNorm): LayerNorm((768,), eps=1e-05, elementwise_affine=True)\n",
       "      (dropout): Dropout(p=0.1, inplace=False)\n",
       "    )\n",
       "    (encoder): CamembertEncoder(\n",
       "      (layer): ModuleList(\n",
       "        (0-11): 12 x CamembertLayer(\n",
       "          (attention): CamembertAttention(\n",
       "            (self): CamembertSdpaSelfAttention(\n",
       "              (query): Linear(in_features=768, out_features=768, bias=True)\n",
       "              (key): Linear(in_features=768, out_features=768, bias=True)\n",
       "              (value): Linear(in_features=768, out_features=768, bias=True)\n",
       "              (dropout): Dropout(p=0.1, inplace=False)\n",
       "            )\n",
       "            (output): CamembertSelfOutput(\n",
       "              (dense): Linear(in_features=768, out_features=768, bias=True)\n",
       "              (LayerNorm): LayerNorm((768,), eps=1e-05, elementwise_affine=True)\n",
       "              (dropout): Dropout(p=0.1, inplace=False)\n",
       "            )\n",
       "          )\n",
       "          (intermediate): CamembertIntermediate(\n",
       "            (dense): Linear(in_features=768, out_features=3072, bias=True)\n",
       "            (intermediate_act_fn): GELUActivation()\n",
       "          )\n",
       "          (output): CamembertOutput(\n",
       "            (dense): Linear(in_features=3072, out_features=768, bias=True)\n",
       "            (LayerNorm): LayerNorm((768,), eps=1e-05, elementwise_affine=True)\n",
       "            (dropout): Dropout(p=0.1, inplace=False)\n",
       "          )\n",
       "        )\n",
       "      )\n",
       "    )\n",
       "  )\n",
       "  (lm_head): CamembertLMHead(\n",
       "    (dense): Linear(in_features=768, out_features=768, bias=True)\n",
       "    (layer_norm): LayerNorm((768,), eps=1e-05, elementwise_affine=True)\n",
       "    (decoder): Linear(in_features=768, out_features=32005, bias=True)\n",
       "  )\n",
       ")"
      ]
     },
     "execution_count": 11,
     "metadata": {},
     "output_type": "execute_result"
    }
   ],
   "source": [
    "mlm_model = CamembertForMaskedLM.from_pretrained('camembert-base')\n",
    "mlm_model"
   ]
  },
  {
   "cell_type": "code",
   "execution_count": 14,
   "metadata": {},
   "outputs": [
    {
     "name": "stderr",
     "output_type": "stream",
     "text": [
      "Some weights of CamembertForSequenceClassification were not initialized from the model checkpoint at camembert-base and are newly initialized: ['classifier.dense.bias', 'classifier.dense.weight', 'classifier.out_proj.bias', 'classifier.out_proj.weight']\n",
      "You should probably TRAIN this model on a down-stream task to be able to use it for predictions and inference.\n"
     ]
    },
    {
     "data": {
      "text/plain": [
       "CamembertForSequenceClassification(\n",
       "  (roberta): CamembertModel(\n",
       "    (embeddings): CamembertEmbeddings(\n",
       "      (word_embeddings): Embedding(32005, 768, padding_idx=1)\n",
       "      (position_embeddings): Embedding(514, 768, padding_idx=1)\n",
       "      (token_type_embeddings): Embedding(1, 768)\n",
       "      (LayerNorm): LayerNorm((768,), eps=1e-05, elementwise_affine=True)\n",
       "      (dropout): Dropout(p=0.1, inplace=False)\n",
       "    )\n",
       "    (encoder): CamembertEncoder(\n",
       "      (layer): ModuleList(\n",
       "        (0-11): 12 x CamembertLayer(\n",
       "          (attention): CamembertAttention(\n",
       "            (self): CamembertSdpaSelfAttention(\n",
       "              (query): Linear(in_features=768, out_features=768, bias=True)\n",
       "              (key): Linear(in_features=768, out_features=768, bias=True)\n",
       "              (value): Linear(in_features=768, out_features=768, bias=True)\n",
       "              (dropout): Dropout(p=0.1, inplace=False)\n",
       "            )\n",
       "            (output): CamembertSelfOutput(\n",
       "              (dense): Linear(in_features=768, out_features=768, bias=True)\n",
       "              (LayerNorm): LayerNorm((768,), eps=1e-05, elementwise_affine=True)\n",
       "              (dropout): Dropout(p=0.1, inplace=False)\n",
       "            )\n",
       "          )\n",
       "          (intermediate): CamembertIntermediate(\n",
       "            (dense): Linear(in_features=768, out_features=3072, bias=True)\n",
       "            (intermediate_act_fn): GELUActivation()\n",
       "          )\n",
       "          (output): CamembertOutput(\n",
       "            (dense): Linear(in_features=3072, out_features=768, bias=True)\n",
       "            (LayerNorm): LayerNorm((768,), eps=1e-05, elementwise_affine=True)\n",
       "            (dropout): Dropout(p=0.1, inplace=False)\n",
       "          )\n",
       "        )\n",
       "      )\n",
       "    )\n",
       "  )\n",
       "  (classifier): CamembertClassificationHead(\n",
       "    (dense): Linear(in_features=768, out_features=768, bias=True)\n",
       "    (dropout): Dropout(p=0.1, inplace=False)\n",
       "    (out_proj): Linear(in_features=768, out_features=2, bias=True)\n",
       "  )\n",
       ")"
      ]
     },
     "execution_count": 14,
     "metadata": {},
     "output_type": "execute_result"
    }
   ],
   "source": [
    "model_sequence_classification = CamembertForSequenceClassification.from_pretrained('camembert-base')\n",
    "model_sequence_classification"
   ]
  },
  {
   "cell_type": "code",
   "execution_count": 16,
   "metadata": {},
   "outputs": [
    {
     "name": "stderr",
     "output_type": "stream",
     "text": [
      "Some weights of CamembertForMultipleChoice were not initialized from the model checkpoint at camembert-base and are newly initialized: ['classifier.bias', 'classifier.weight']\n",
      "You should probably TRAIN this model on a down-stream task to be able to use it for predictions and inference.\n"
     ]
    },
    {
     "data": {
      "text/plain": [
       "CamembertForMultipleChoice(\n",
       "  (roberta): CamembertModel(\n",
       "    (embeddings): CamembertEmbeddings(\n",
       "      (word_embeddings): Embedding(32005, 768, padding_idx=1)\n",
       "      (position_embeddings): Embedding(514, 768, padding_idx=1)\n",
       "      (token_type_embeddings): Embedding(1, 768)\n",
       "      (LayerNorm): LayerNorm((768,), eps=1e-05, elementwise_affine=True)\n",
       "      (dropout): Dropout(p=0.1, inplace=False)\n",
       "    )\n",
       "    (encoder): CamembertEncoder(\n",
       "      (layer): ModuleList(\n",
       "        (0-11): 12 x CamembertLayer(\n",
       "          (attention): CamembertAttention(\n",
       "            (self): CamembertSdpaSelfAttention(\n",
       "              (query): Linear(in_features=768, out_features=768, bias=True)\n",
       "              (key): Linear(in_features=768, out_features=768, bias=True)\n",
       "              (value): Linear(in_features=768, out_features=768, bias=True)\n",
       "              (dropout): Dropout(p=0.1, inplace=False)\n",
       "            )\n",
       "            (output): CamembertSelfOutput(\n",
       "              (dense): Linear(in_features=768, out_features=768, bias=True)\n",
       "              (LayerNorm): LayerNorm((768,), eps=1e-05, elementwise_affine=True)\n",
       "              (dropout): Dropout(p=0.1, inplace=False)\n",
       "            )\n",
       "          )\n",
       "          (intermediate): CamembertIntermediate(\n",
       "            (dense): Linear(in_features=768, out_features=3072, bias=True)\n",
       "            (intermediate_act_fn): GELUActivation()\n",
       "          )\n",
       "          (output): CamembertOutput(\n",
       "            (dense): Linear(in_features=3072, out_features=768, bias=True)\n",
       "            (LayerNorm): LayerNorm((768,), eps=1e-05, elementwise_affine=True)\n",
       "            (dropout): Dropout(p=0.1, inplace=False)\n",
       "          )\n",
       "        )\n",
       "      )\n",
       "    )\n",
       "    (pooler): CamembertPooler(\n",
       "      (dense): Linear(in_features=768, out_features=768, bias=True)\n",
       "      (activation): Tanh()\n",
       "    )\n",
       "  )\n",
       "  (dropout): Dropout(p=0.1, inplace=False)\n",
       "  (classifier): Linear(in_features=768, out_features=1, bias=True)\n",
       ")"
      ]
     },
     "execution_count": 16,
     "metadata": {},
     "output_type": "execute_result"
    }
   ],
   "source": [
    "model_CamembertForMultipleChoice = CamembertForMultipleChoice.from_pretrained('camembert-base')\n",
    "model_CamembertForMultipleChoice"
   ]
  },
  {
   "cell_type": "code",
   "execution_count": 90,
   "metadata": {},
   "outputs": [
    {
     "name": "stderr",
     "output_type": "stream",
     "text": [
      "Some weights of CamembertForTokenClassification were not initialized from the model checkpoint at camembert-base and are newly initialized: ['classifier.bias', 'classifier.weight']\n",
      "You should probably TRAIN this model on a down-stream task to be able to use it for predictions and inference.\n"
     ]
    },
    {
     "data": {
      "text/plain": [
       "CamembertForTokenClassification(\n",
       "  (roberta): CamembertModel(\n",
       "    (embeddings): CamembertEmbeddings(\n",
       "      (word_embeddings): Embedding(32005, 768, padding_idx=1)\n",
       "      (position_embeddings): Embedding(514, 768, padding_idx=1)\n",
       "      (token_type_embeddings): Embedding(1, 768)\n",
       "      (LayerNorm): LayerNorm((768,), eps=1e-05, elementwise_affine=True)\n",
       "      (dropout): Dropout(p=0.1, inplace=False)\n",
       "    )\n",
       "    (encoder): CamembertEncoder(\n",
       "      (layer): ModuleList(\n",
       "        (0-11): 12 x CamembertLayer(\n",
       "          (attention): CamembertAttention(\n",
       "            (self): CamembertSdpaSelfAttention(\n",
       "              (query): Linear(in_features=768, out_features=768, bias=True)\n",
       "              (key): Linear(in_features=768, out_features=768, bias=True)\n",
       "              (value): Linear(in_features=768, out_features=768, bias=True)\n",
       "              (dropout): Dropout(p=0.1, inplace=False)\n",
       "            )\n",
       "            (output): CamembertSelfOutput(\n",
       "              (dense): Linear(in_features=768, out_features=768, bias=True)\n",
       "              (LayerNorm): LayerNorm((768,), eps=1e-05, elementwise_affine=True)\n",
       "              (dropout): Dropout(p=0.1, inplace=False)\n",
       "            )\n",
       "          )\n",
       "          (intermediate): CamembertIntermediate(\n",
       "            (dense): Linear(in_features=768, out_features=3072, bias=True)\n",
       "            (intermediate_act_fn): GELUActivation()\n",
       "          )\n",
       "          (output): CamembertOutput(\n",
       "            (dense): Linear(in_features=3072, out_features=768, bias=True)\n",
       "            (LayerNorm): LayerNorm((768,), eps=1e-05, elementwise_affine=True)\n",
       "            (dropout): Dropout(p=0.1, inplace=False)\n",
       "          )\n",
       "        )\n",
       "      )\n",
       "    )\n",
       "  )\n",
       "  (dropout): Dropout(p=0.1, inplace=False)\n",
       "  (classifier): Linear(in_features=768, out_features=2, bias=True)\n",
       ")"
      ]
     },
     "execution_count": 90,
     "metadata": {},
     "output_type": "execute_result"
    }
   ],
   "source": [
    "model_CamembertForTokenClassification = CamembertForTokenClassification.from_pretrained('camembert-base')\n",
    "model_CamembertForTokenClassification"
   ]
  },
  {
   "cell_type": "markdown",
   "metadata": {},
   "source": [
    "___"
   ]
  },
  {
   "cell_type": "markdown",
   "metadata": {},
   "source": [
    "2. visualise the model's weights :"
   ]
  },
  {
   "cell_type": "code",
   "execution_count": null,
   "metadata": {},
   "outputs": [],
   "source": [
    "dir(model)\n",
    "model.pooler\n",
    "model.named_modules\n",
    "model.encoder\n",
    "model.embeddings"
   ]
  },
  {
   "cell_type": "code",
   "execution_count": 61,
   "metadata": {},
   "outputs": [
    {
     "data": {
      "text/plain": [
       "CamembertSdpaSelfAttention(\n",
       "  (query): Linear(in_features=768, out_features=768, bias=True)\n",
       "  (key): Linear(in_features=768, out_features=768, bias=True)\n",
       "  (value): Linear(in_features=768, out_features=768, bias=True)\n",
       "  (dropout): Dropout(p=0.1, inplace=False)\n",
       ")"
      ]
     },
     "execution_count": 61,
     "metadata": {},
     "output_type": "execute_result"
    }
   ],
   "source": [
    "model.encoder.layer[0].attention.self"
   ]
  },
  {
   "cell_type": "code",
   "execution_count": 46,
   "metadata": {},
   "outputs": [
    {
     "name": "stdout",
     "output_type": "stream",
     "text": [
      "embeddings.word_embeddings.weight torch.Size([32005, 768])\n",
      "embeddings.position_embeddings.weight torch.Size([514, 768])\n",
      "embeddings.token_type_embeddings.weight torch.Size([1, 768])\n",
      "embeddings.LayerNorm.weight torch.Size([768])\n",
      "embeddings.LayerNorm.bias torch.Size([768])\n",
      "encoder.layer.0.attention.self.query.weight torch.Size([768, 768])\n",
      "encoder.layer.0.attention.self.query.bias torch.Size([768])\n",
      "encoder.layer.0.attention.self.key.weight torch.Size([768, 768])\n",
      "encoder.layer.0.attention.self.key.bias torch.Size([768])\n",
      "encoder.layer.0.attention.self.value.weight torch.Size([768, 768])\n",
      "encoder.layer.0.attention.self.value.bias torch.Size([768])\n",
      "encoder.layer.0.attention.output.dense.weight torch.Size([768, 768])\n",
      "encoder.layer.0.attention.output.dense.bias torch.Size([768])\n",
      "encoder.layer.0.attention.output.LayerNorm.weight torch.Size([768])\n",
      "encoder.layer.0.attention.output.LayerNorm.bias torch.Size([768])\n",
      "encoder.layer.0.intermediate.dense.weight torch.Size([3072, 768])\n",
      "encoder.layer.0.intermediate.dense.bias torch.Size([3072])\n",
      "encoder.layer.0.output.dense.weight torch.Size([768, 3072])\n",
      "encoder.layer.0.output.dense.bias torch.Size([768])\n",
      "encoder.layer.0.output.LayerNorm.weight torch.Size([768])\n",
      "encoder.layer.0.output.LayerNorm.bias torch.Size([768])\n",
      "encoder.layer.1.attention.self.query.weight torch.Size([768, 768])\n",
      "encoder.layer.1.attention.self.query.bias torch.Size([768])\n",
      "encoder.layer.1.attention.self.key.weight torch.Size([768, 768])\n",
      "encoder.layer.1.attention.self.key.bias torch.Size([768])\n",
      "encoder.layer.1.attention.self.value.weight torch.Size([768, 768])\n",
      "encoder.layer.1.attention.self.value.bias torch.Size([768])\n",
      "encoder.layer.1.attention.output.dense.weight torch.Size([768, 768])\n",
      "encoder.layer.1.attention.output.dense.bias torch.Size([768])\n",
      "encoder.layer.1.attention.output.LayerNorm.weight torch.Size([768])\n",
      "encoder.layer.1.attention.output.LayerNorm.bias torch.Size([768])\n",
      "encoder.layer.1.intermediate.dense.weight torch.Size([3072, 768])\n",
      "encoder.layer.1.intermediate.dense.bias torch.Size([3072])\n",
      "encoder.layer.1.output.dense.weight torch.Size([768, 3072])\n",
      "encoder.layer.1.output.dense.bias torch.Size([768])\n",
      "encoder.layer.1.output.LayerNorm.weight torch.Size([768])\n",
      "encoder.layer.1.output.LayerNorm.bias torch.Size([768])\n",
      "encoder.layer.2.attention.self.query.weight torch.Size([768, 768])\n",
      "encoder.layer.2.attention.self.query.bias torch.Size([768])\n",
      "encoder.layer.2.attention.self.key.weight torch.Size([768, 768])\n",
      "encoder.layer.2.attention.self.key.bias torch.Size([768])\n",
      "encoder.layer.2.attention.self.value.weight torch.Size([768, 768])\n",
      "encoder.layer.2.attention.self.value.bias torch.Size([768])\n",
      "encoder.layer.2.attention.output.dense.weight torch.Size([768, 768])\n",
      "encoder.layer.2.attention.output.dense.bias torch.Size([768])\n",
      "encoder.layer.2.attention.output.LayerNorm.weight torch.Size([768])\n",
      "encoder.layer.2.attention.output.LayerNorm.bias torch.Size([768])\n",
      "encoder.layer.2.intermediate.dense.weight torch.Size([3072, 768])\n",
      "encoder.layer.2.intermediate.dense.bias torch.Size([3072])\n",
      "encoder.layer.2.output.dense.weight torch.Size([768, 3072])\n",
      "encoder.layer.2.output.dense.bias torch.Size([768])\n",
      "encoder.layer.2.output.LayerNorm.weight torch.Size([768])\n",
      "encoder.layer.2.output.LayerNorm.bias torch.Size([768])\n",
      "encoder.layer.3.attention.self.query.weight torch.Size([768, 768])\n",
      "encoder.layer.3.attention.self.query.bias torch.Size([768])\n",
      "encoder.layer.3.attention.self.key.weight torch.Size([768, 768])\n",
      "encoder.layer.3.attention.self.key.bias torch.Size([768])\n",
      "encoder.layer.3.attention.self.value.weight torch.Size([768, 768])\n",
      "encoder.layer.3.attention.self.value.bias torch.Size([768])\n",
      "encoder.layer.3.attention.output.dense.weight torch.Size([768, 768])\n",
      "encoder.layer.3.attention.output.dense.bias torch.Size([768])\n",
      "encoder.layer.3.attention.output.LayerNorm.weight torch.Size([768])\n",
      "encoder.layer.3.attention.output.LayerNorm.bias torch.Size([768])\n",
      "encoder.layer.3.intermediate.dense.weight torch.Size([3072, 768])\n",
      "encoder.layer.3.intermediate.dense.bias torch.Size([3072])\n",
      "encoder.layer.3.output.dense.weight torch.Size([768, 3072])\n",
      "encoder.layer.3.output.dense.bias torch.Size([768])\n",
      "encoder.layer.3.output.LayerNorm.weight torch.Size([768])\n",
      "encoder.layer.3.output.LayerNorm.bias torch.Size([768])\n",
      "encoder.layer.4.attention.self.query.weight torch.Size([768, 768])\n",
      "encoder.layer.4.attention.self.query.bias torch.Size([768])\n",
      "encoder.layer.4.attention.self.key.weight torch.Size([768, 768])\n",
      "encoder.layer.4.attention.self.key.bias torch.Size([768])\n",
      "encoder.layer.4.attention.self.value.weight torch.Size([768, 768])\n",
      "encoder.layer.4.attention.self.value.bias torch.Size([768])\n",
      "encoder.layer.4.attention.output.dense.weight torch.Size([768, 768])\n",
      "encoder.layer.4.attention.output.dense.bias torch.Size([768])\n",
      "encoder.layer.4.attention.output.LayerNorm.weight torch.Size([768])\n",
      "encoder.layer.4.attention.output.LayerNorm.bias torch.Size([768])\n",
      "encoder.layer.4.intermediate.dense.weight torch.Size([3072, 768])\n",
      "encoder.layer.4.intermediate.dense.bias torch.Size([3072])\n",
      "encoder.layer.4.output.dense.weight torch.Size([768, 3072])\n",
      "encoder.layer.4.output.dense.bias torch.Size([768])\n",
      "encoder.layer.4.output.LayerNorm.weight torch.Size([768])\n",
      "encoder.layer.4.output.LayerNorm.bias torch.Size([768])\n",
      "encoder.layer.5.attention.self.query.weight torch.Size([768, 768])\n",
      "encoder.layer.5.attention.self.query.bias torch.Size([768])\n",
      "encoder.layer.5.attention.self.key.weight torch.Size([768, 768])\n",
      "encoder.layer.5.attention.self.key.bias torch.Size([768])\n",
      "encoder.layer.5.attention.self.value.weight torch.Size([768, 768])\n",
      "encoder.layer.5.attention.self.value.bias torch.Size([768])\n",
      "encoder.layer.5.attention.output.dense.weight torch.Size([768, 768])\n",
      "encoder.layer.5.attention.output.dense.bias torch.Size([768])\n",
      "encoder.layer.5.attention.output.LayerNorm.weight torch.Size([768])\n",
      "encoder.layer.5.attention.output.LayerNorm.bias torch.Size([768])\n",
      "encoder.layer.5.intermediate.dense.weight torch.Size([3072, 768])\n",
      "encoder.layer.5.intermediate.dense.bias torch.Size([3072])\n",
      "encoder.layer.5.output.dense.weight torch.Size([768, 3072])\n",
      "encoder.layer.5.output.dense.bias torch.Size([768])\n",
      "encoder.layer.5.output.LayerNorm.weight torch.Size([768])\n",
      "encoder.layer.5.output.LayerNorm.bias torch.Size([768])\n",
      "encoder.layer.6.attention.self.query.weight torch.Size([768, 768])\n",
      "encoder.layer.6.attention.self.query.bias torch.Size([768])\n",
      "encoder.layer.6.attention.self.key.weight torch.Size([768, 768])\n",
      "encoder.layer.6.attention.self.key.bias torch.Size([768])\n",
      "encoder.layer.6.attention.self.value.weight torch.Size([768, 768])\n",
      "encoder.layer.6.attention.self.value.bias torch.Size([768])\n",
      "encoder.layer.6.attention.output.dense.weight torch.Size([768, 768])\n",
      "encoder.layer.6.attention.output.dense.bias torch.Size([768])\n",
      "encoder.layer.6.attention.output.LayerNorm.weight torch.Size([768])\n",
      "encoder.layer.6.attention.output.LayerNorm.bias torch.Size([768])\n",
      "encoder.layer.6.intermediate.dense.weight torch.Size([3072, 768])\n",
      "encoder.layer.6.intermediate.dense.bias torch.Size([3072])\n",
      "encoder.layer.6.output.dense.weight torch.Size([768, 3072])\n",
      "encoder.layer.6.output.dense.bias torch.Size([768])\n",
      "encoder.layer.6.output.LayerNorm.weight torch.Size([768])\n",
      "encoder.layer.6.output.LayerNorm.bias torch.Size([768])\n",
      "encoder.layer.7.attention.self.query.weight torch.Size([768, 768])\n",
      "encoder.layer.7.attention.self.query.bias torch.Size([768])\n",
      "encoder.layer.7.attention.self.key.weight torch.Size([768, 768])\n",
      "encoder.layer.7.attention.self.key.bias torch.Size([768])\n",
      "encoder.layer.7.attention.self.value.weight torch.Size([768, 768])\n",
      "encoder.layer.7.attention.self.value.bias torch.Size([768])\n",
      "encoder.layer.7.attention.output.dense.weight torch.Size([768, 768])\n",
      "encoder.layer.7.attention.output.dense.bias torch.Size([768])\n",
      "encoder.layer.7.attention.output.LayerNorm.weight torch.Size([768])\n",
      "encoder.layer.7.attention.output.LayerNorm.bias torch.Size([768])\n",
      "encoder.layer.7.intermediate.dense.weight torch.Size([3072, 768])\n",
      "encoder.layer.7.intermediate.dense.bias torch.Size([3072])\n",
      "encoder.layer.7.output.dense.weight torch.Size([768, 3072])\n",
      "encoder.layer.7.output.dense.bias torch.Size([768])\n",
      "encoder.layer.7.output.LayerNorm.weight torch.Size([768])\n",
      "encoder.layer.7.output.LayerNorm.bias torch.Size([768])\n",
      "encoder.layer.8.attention.self.query.weight torch.Size([768, 768])\n",
      "encoder.layer.8.attention.self.query.bias torch.Size([768])\n",
      "encoder.layer.8.attention.self.key.weight torch.Size([768, 768])\n",
      "encoder.layer.8.attention.self.key.bias torch.Size([768])\n",
      "encoder.layer.8.attention.self.value.weight torch.Size([768, 768])\n",
      "encoder.layer.8.attention.self.value.bias torch.Size([768])\n",
      "encoder.layer.8.attention.output.dense.weight torch.Size([768, 768])\n",
      "encoder.layer.8.attention.output.dense.bias torch.Size([768])\n",
      "encoder.layer.8.attention.output.LayerNorm.weight torch.Size([768])\n",
      "encoder.layer.8.attention.output.LayerNorm.bias torch.Size([768])\n",
      "encoder.layer.8.intermediate.dense.weight torch.Size([3072, 768])\n",
      "encoder.layer.8.intermediate.dense.bias torch.Size([3072])\n",
      "encoder.layer.8.output.dense.weight torch.Size([768, 3072])\n",
      "encoder.layer.8.output.dense.bias torch.Size([768])\n",
      "encoder.layer.8.output.LayerNorm.weight torch.Size([768])\n",
      "encoder.layer.8.output.LayerNorm.bias torch.Size([768])\n",
      "encoder.layer.9.attention.self.query.weight torch.Size([768, 768])\n",
      "encoder.layer.9.attention.self.query.bias torch.Size([768])\n",
      "encoder.layer.9.attention.self.key.weight torch.Size([768, 768])\n",
      "encoder.layer.9.attention.self.key.bias torch.Size([768])\n",
      "encoder.layer.9.attention.self.value.weight torch.Size([768, 768])\n",
      "encoder.layer.9.attention.self.value.bias torch.Size([768])\n",
      "encoder.layer.9.attention.output.dense.weight torch.Size([768, 768])\n",
      "encoder.layer.9.attention.output.dense.bias torch.Size([768])\n",
      "encoder.layer.9.attention.output.LayerNorm.weight torch.Size([768])\n",
      "encoder.layer.9.attention.output.LayerNorm.bias torch.Size([768])\n",
      "encoder.layer.9.intermediate.dense.weight torch.Size([3072, 768])\n",
      "encoder.layer.9.intermediate.dense.bias torch.Size([3072])\n",
      "encoder.layer.9.output.dense.weight torch.Size([768, 3072])\n",
      "encoder.layer.9.output.dense.bias torch.Size([768])\n",
      "encoder.layer.9.output.LayerNorm.weight torch.Size([768])\n",
      "encoder.layer.9.output.LayerNorm.bias torch.Size([768])\n",
      "encoder.layer.10.attention.self.query.weight torch.Size([768, 768])\n",
      "encoder.layer.10.attention.self.query.bias torch.Size([768])\n",
      "encoder.layer.10.attention.self.key.weight torch.Size([768, 768])\n",
      "encoder.layer.10.attention.self.key.bias torch.Size([768])\n",
      "encoder.layer.10.attention.self.value.weight torch.Size([768, 768])\n",
      "encoder.layer.10.attention.self.value.bias torch.Size([768])\n",
      "encoder.layer.10.attention.output.dense.weight torch.Size([768, 768])\n",
      "encoder.layer.10.attention.output.dense.bias torch.Size([768])\n",
      "encoder.layer.10.attention.output.LayerNorm.weight torch.Size([768])\n",
      "encoder.layer.10.attention.output.LayerNorm.bias torch.Size([768])\n",
      "encoder.layer.10.intermediate.dense.weight torch.Size([3072, 768])\n",
      "encoder.layer.10.intermediate.dense.bias torch.Size([3072])\n",
      "encoder.layer.10.output.dense.weight torch.Size([768, 3072])\n",
      "encoder.layer.10.output.dense.bias torch.Size([768])\n",
      "encoder.layer.10.output.LayerNorm.weight torch.Size([768])\n",
      "encoder.layer.10.output.LayerNorm.bias torch.Size([768])\n",
      "encoder.layer.11.attention.self.query.weight torch.Size([768, 768])\n",
      "encoder.layer.11.attention.self.query.bias torch.Size([768])\n",
      "encoder.layer.11.attention.self.key.weight torch.Size([768, 768])\n",
      "encoder.layer.11.attention.self.key.bias torch.Size([768])\n",
      "encoder.layer.11.attention.self.value.weight torch.Size([768, 768])\n",
      "encoder.layer.11.attention.self.value.bias torch.Size([768])\n",
      "encoder.layer.11.attention.output.dense.weight torch.Size([768, 768])\n",
      "encoder.layer.11.attention.output.dense.bias torch.Size([768])\n",
      "encoder.layer.11.attention.output.LayerNorm.weight torch.Size([768])\n",
      "encoder.layer.11.attention.output.LayerNorm.bias torch.Size([768])\n",
      "encoder.layer.11.intermediate.dense.weight torch.Size([3072, 768])\n",
      "encoder.layer.11.intermediate.dense.bias torch.Size([3072])\n",
      "encoder.layer.11.output.dense.weight torch.Size([768, 3072])\n",
      "encoder.layer.11.output.dense.bias torch.Size([768])\n",
      "encoder.layer.11.output.LayerNorm.weight torch.Size([768])\n",
      "encoder.layer.11.output.LayerNorm.bias torch.Size([768])\n",
      "pooler.dense.weight torch.Size([768, 768])\n",
      "pooler.dense.bias torch.Size([768])\n"
     ]
    }
   ],
   "source": [
    "for name, params in model.named_parameters():\n",
    "    print(name, params.shape)"
   ]
  },
  {
   "cell_type": "markdown",
   "metadata": {},
   "source": [
    "3. save the model's weights"
   ]
  },
  {
   "cell_type": "markdown",
   "metadata": {},
   "source": [
    "model.state_dict donne un dictionnaire avec tous modules comme clés et les poids comme valeurs"
   ]
  },
  {
   "cell_type": "code",
   "execution_count": 81,
   "metadata": {},
   "outputs": [
    {
     "name": "stdout",
     "output_type": "stream",
     "text": [
      "odict_keys(['embeddings.word_embeddings.weight', 'embeddings.position_embeddings.weight', 'embeddings.token_type_embeddings.weight', 'embeddings.LayerNorm.weight', 'embeddings.LayerNorm.bias', 'encoder.layer.0.attention.self.query.weight', 'encoder.layer.0.attention.self.query.bias', 'encoder.layer.0.attention.self.key.weight', 'encoder.layer.0.attention.self.key.bias', 'encoder.layer.0.attention.self.value.weight', 'encoder.layer.0.attention.self.value.bias', 'encoder.layer.0.attention.output.dense.weight', 'encoder.layer.0.attention.output.dense.bias', 'encoder.layer.0.attention.output.LayerNorm.weight', 'encoder.layer.0.attention.output.LayerNorm.bias', 'encoder.layer.0.intermediate.dense.weight', 'encoder.layer.0.intermediate.dense.bias', 'encoder.layer.0.output.dense.weight', 'encoder.layer.0.output.dense.bias', 'encoder.layer.0.output.LayerNorm.weight', 'encoder.layer.0.output.LayerNorm.bias', 'encoder.layer.1.attention.self.query.weight', 'encoder.layer.1.attention.self.query.bias', 'encoder.layer.1.attention.self.key.weight', 'encoder.layer.1.attention.self.key.bias', 'encoder.layer.1.attention.self.value.weight', 'encoder.layer.1.attention.self.value.bias', 'encoder.layer.1.attention.output.dense.weight', 'encoder.layer.1.attention.output.dense.bias', 'encoder.layer.1.attention.output.LayerNorm.weight', 'encoder.layer.1.attention.output.LayerNorm.bias', 'encoder.layer.1.intermediate.dense.weight', 'encoder.layer.1.intermediate.dense.bias', 'encoder.layer.1.output.dense.weight', 'encoder.layer.1.output.dense.bias', 'encoder.layer.1.output.LayerNorm.weight', 'encoder.layer.1.output.LayerNorm.bias', 'encoder.layer.2.attention.self.query.weight', 'encoder.layer.2.attention.self.query.bias', 'encoder.layer.2.attention.self.key.weight', 'encoder.layer.2.attention.self.key.bias', 'encoder.layer.2.attention.self.value.weight', 'encoder.layer.2.attention.self.value.bias', 'encoder.layer.2.attention.output.dense.weight', 'encoder.layer.2.attention.output.dense.bias', 'encoder.layer.2.attention.output.LayerNorm.weight', 'encoder.layer.2.attention.output.LayerNorm.bias', 'encoder.layer.2.intermediate.dense.weight', 'encoder.layer.2.intermediate.dense.bias', 'encoder.layer.2.output.dense.weight', 'encoder.layer.2.output.dense.bias', 'encoder.layer.2.output.LayerNorm.weight', 'encoder.layer.2.output.LayerNorm.bias', 'encoder.layer.3.attention.self.query.weight', 'encoder.layer.3.attention.self.query.bias', 'encoder.layer.3.attention.self.key.weight', 'encoder.layer.3.attention.self.key.bias', 'encoder.layer.3.attention.self.value.weight', 'encoder.layer.3.attention.self.value.bias', 'encoder.layer.3.attention.output.dense.weight', 'encoder.layer.3.attention.output.dense.bias', 'encoder.layer.3.attention.output.LayerNorm.weight', 'encoder.layer.3.attention.output.LayerNorm.bias', 'encoder.layer.3.intermediate.dense.weight', 'encoder.layer.3.intermediate.dense.bias', 'encoder.layer.3.output.dense.weight', 'encoder.layer.3.output.dense.bias', 'encoder.layer.3.output.LayerNorm.weight', 'encoder.layer.3.output.LayerNorm.bias', 'encoder.layer.4.attention.self.query.weight', 'encoder.layer.4.attention.self.query.bias', 'encoder.layer.4.attention.self.key.weight', 'encoder.layer.4.attention.self.key.bias', 'encoder.layer.4.attention.self.value.weight', 'encoder.layer.4.attention.self.value.bias', 'encoder.layer.4.attention.output.dense.weight', 'encoder.layer.4.attention.output.dense.bias', 'encoder.layer.4.attention.output.LayerNorm.weight', 'encoder.layer.4.attention.output.LayerNorm.bias', 'encoder.layer.4.intermediate.dense.weight', 'encoder.layer.4.intermediate.dense.bias', 'encoder.layer.4.output.dense.weight', 'encoder.layer.4.output.dense.bias', 'encoder.layer.4.output.LayerNorm.weight', 'encoder.layer.4.output.LayerNorm.bias', 'encoder.layer.5.attention.self.query.weight', 'encoder.layer.5.attention.self.query.bias', 'encoder.layer.5.attention.self.key.weight', 'encoder.layer.5.attention.self.key.bias', 'encoder.layer.5.attention.self.value.weight', 'encoder.layer.5.attention.self.value.bias', 'encoder.layer.5.attention.output.dense.weight', 'encoder.layer.5.attention.output.dense.bias', 'encoder.layer.5.attention.output.LayerNorm.weight', 'encoder.layer.5.attention.output.LayerNorm.bias', 'encoder.layer.5.intermediate.dense.weight', 'encoder.layer.5.intermediate.dense.bias', 'encoder.layer.5.output.dense.weight', 'encoder.layer.5.output.dense.bias', 'encoder.layer.5.output.LayerNorm.weight', 'encoder.layer.5.output.LayerNorm.bias', 'encoder.layer.6.attention.self.query.weight', 'encoder.layer.6.attention.self.query.bias', 'encoder.layer.6.attention.self.key.weight', 'encoder.layer.6.attention.self.key.bias', 'encoder.layer.6.attention.self.value.weight', 'encoder.layer.6.attention.self.value.bias', 'encoder.layer.6.attention.output.dense.weight', 'encoder.layer.6.attention.output.dense.bias', 'encoder.layer.6.attention.output.LayerNorm.weight', 'encoder.layer.6.attention.output.LayerNorm.bias', 'encoder.layer.6.intermediate.dense.weight', 'encoder.layer.6.intermediate.dense.bias', 'encoder.layer.6.output.dense.weight', 'encoder.layer.6.output.dense.bias', 'encoder.layer.6.output.LayerNorm.weight', 'encoder.layer.6.output.LayerNorm.bias', 'encoder.layer.7.attention.self.query.weight', 'encoder.layer.7.attention.self.query.bias', 'encoder.layer.7.attention.self.key.weight', 'encoder.layer.7.attention.self.key.bias', 'encoder.layer.7.attention.self.value.weight', 'encoder.layer.7.attention.self.value.bias', 'encoder.layer.7.attention.output.dense.weight', 'encoder.layer.7.attention.output.dense.bias', 'encoder.layer.7.attention.output.LayerNorm.weight', 'encoder.layer.7.attention.output.LayerNorm.bias', 'encoder.layer.7.intermediate.dense.weight', 'encoder.layer.7.intermediate.dense.bias', 'encoder.layer.7.output.dense.weight', 'encoder.layer.7.output.dense.bias', 'encoder.layer.7.output.LayerNorm.weight', 'encoder.layer.7.output.LayerNorm.bias', 'encoder.layer.8.attention.self.query.weight', 'encoder.layer.8.attention.self.query.bias', 'encoder.layer.8.attention.self.key.weight', 'encoder.layer.8.attention.self.key.bias', 'encoder.layer.8.attention.self.value.weight', 'encoder.layer.8.attention.self.value.bias', 'encoder.layer.8.attention.output.dense.weight', 'encoder.layer.8.attention.output.dense.bias', 'encoder.layer.8.attention.output.LayerNorm.weight', 'encoder.layer.8.attention.output.LayerNorm.bias', 'encoder.layer.8.intermediate.dense.weight', 'encoder.layer.8.intermediate.dense.bias', 'encoder.layer.8.output.dense.weight', 'encoder.layer.8.output.dense.bias', 'encoder.layer.8.output.LayerNorm.weight', 'encoder.layer.8.output.LayerNorm.bias', 'encoder.layer.9.attention.self.query.weight', 'encoder.layer.9.attention.self.query.bias', 'encoder.layer.9.attention.self.key.weight', 'encoder.layer.9.attention.self.key.bias', 'encoder.layer.9.attention.self.value.weight', 'encoder.layer.9.attention.self.value.bias', 'encoder.layer.9.attention.output.dense.weight', 'encoder.layer.9.attention.output.dense.bias', 'encoder.layer.9.attention.output.LayerNorm.weight', 'encoder.layer.9.attention.output.LayerNorm.bias', 'encoder.layer.9.intermediate.dense.weight', 'encoder.layer.9.intermediate.dense.bias', 'encoder.layer.9.output.dense.weight', 'encoder.layer.9.output.dense.bias', 'encoder.layer.9.output.LayerNorm.weight', 'encoder.layer.9.output.LayerNorm.bias', 'encoder.layer.10.attention.self.query.weight', 'encoder.layer.10.attention.self.query.bias', 'encoder.layer.10.attention.self.key.weight', 'encoder.layer.10.attention.self.key.bias', 'encoder.layer.10.attention.self.value.weight', 'encoder.layer.10.attention.self.value.bias', 'encoder.layer.10.attention.output.dense.weight', 'encoder.layer.10.attention.output.dense.bias', 'encoder.layer.10.attention.output.LayerNorm.weight', 'encoder.layer.10.attention.output.LayerNorm.bias', 'encoder.layer.10.intermediate.dense.weight', 'encoder.layer.10.intermediate.dense.bias', 'encoder.layer.10.output.dense.weight', 'encoder.layer.10.output.dense.bias', 'encoder.layer.10.output.LayerNorm.weight', 'encoder.layer.10.output.LayerNorm.bias', 'encoder.layer.11.attention.self.query.weight', 'encoder.layer.11.attention.self.query.bias', 'encoder.layer.11.attention.self.key.weight', 'encoder.layer.11.attention.self.key.bias', 'encoder.layer.11.attention.self.value.weight', 'encoder.layer.11.attention.self.value.bias', 'encoder.layer.11.attention.output.dense.weight', 'encoder.layer.11.attention.output.dense.bias', 'encoder.layer.11.attention.output.LayerNorm.weight', 'encoder.layer.11.attention.output.LayerNorm.bias', 'encoder.layer.11.intermediate.dense.weight', 'encoder.layer.11.intermediate.dense.bias', 'encoder.layer.11.output.dense.weight', 'encoder.layer.11.output.dense.bias', 'encoder.layer.11.output.LayerNorm.weight', 'encoder.layer.11.output.LayerNorm.bias', 'pooler.dense.weight', 'pooler.dense.bias'])\n"
     ]
    },
    {
     "data": {
      "text/plain": [
       "torch.Size([32005, 768])"
      ]
     },
     "execution_count": 81,
     "metadata": {},
     "output_type": "execute_result"
    }
   ],
   "source": [
    "print(model.state_dict().keys())\n",
    "LIST = list(model.state_dict().values())\n",
    "LIST[0].shape"
   ]
  },
  {
   "cell_type": "code",
   "execution_count": 82,
   "metadata": {},
   "outputs": [],
   "source": [
    "import torch\n",
    "torch.save(model.state_dict(), 'camembert-base.pth')"
   ]
  },
  {
   "cell_type": "code",
   "execution_count": 89,
   "metadata": {},
   "outputs": [
    {
     "name": "stderr",
     "output_type": "stream",
     "text": [
      "C:\\Users\\Napster\\AppData\\Local\\Temp\\ipykernel_10356\\2577785934.py:1: FutureWarning: You are using `torch.load` with `weights_only=False` (the current default value), which uses the default pickle module implicitly. It is possible to construct malicious pickle data which will execute arbitrary code during unpickling (See https://github.com/pytorch/pytorch/blob/main/SECURITY.md#untrusted-models for more details). In a future release, the default value for `weights_only` will be flipped to `True`. This limits the functions that could be executed during unpickling. Arbitrary objects will no longer be allowed to be loaded via this mode unless they are explicitly allowlisted by the user via `torch.serialization.add_safe_globals`. We recommend you start setting `weights_only=True` for any use case where you don't have full control of the loaded file. Please open an issue on GitHub for any issues related to this experimental feature.\n",
      "  state_dict = torch.load('camembert-base.pth')\n"
     ]
    },
    {
     "data": {
      "text/plain": [
       "<All keys matched successfully>"
      ]
     },
     "execution_count": 89,
     "metadata": {},
     "output_type": "execute_result"
    }
   ],
   "source": [
    "state_dict = torch.load('camembert-base.pth')\n",
    "model.load_state_dict(state_dict)"
   ]
  },
  {
   "cell_type": "markdown",
   "metadata": {},
   "source": [
    "number of parameters :"
   ]
  },
  {
   "cell_type": "code",
   "execution_count": 99,
   "metadata": {},
   "outputs": [
    {
     "name": "stdout",
     "output_type": "stream",
     "text": [
      "Total parameters: 110621952\n"
     ]
    }
   ],
   "source": [
    "total_params = sum(p.numel() for p in model.parameters())\n",
    "print(f\"Total parameters: {total_params}\")"
   ]
  },
  {
   "cell_type": "markdown",
   "metadata": {},
   "source": [
    "3. Randomly initialise the weights"
   ]
  },
  {
   "cell_type": "code",
   "execution_count": 89,
   "metadata": {},
   "outputs": [],
   "source": [
    "import torch.nn as nn\n",
    "\n",
    "def init_weights(module):\n",
    "    if isinstance(module, (nn.Linear, nn.Embedding)):\n",
    "        print(f\"Initializing {module.__class__.__name__} with Xavier Uniform\")\n",
    "        nn.init.xavier_uniform_(module.weight)\n",
    "    elif isinstance(module, nn.LayerNorm):\n",
    "        print(f\"Initializing {module.__class__.__name__} with Constant Weights\")\n",
    "        nn.init.constant_(module.bias, 0)\n",
    "        nn.init.constant_(module.weight, 1)\n",
    "    if hasattr(module, 'bias') and module.bias is not None:\n",
    "        print(f\"Initializing Bias for {module.__class__.__name__}\")\n",
    "        nn.init.constant_(module.bias, 0)"
   ]
  },
  {
   "cell_type": "code",
   "execution_count": 126,
   "metadata": {},
   "outputs": [
    {
     "name": "stderr",
     "output_type": "stream",
     "text": [
      "Some weights of the model checkpoint at camembert-base were not used when initializing CamembertForMaskedLM: ['roberta.pooler.dense.bias', 'roberta.pooler.dense.weight']\n",
      "- This IS expected if you are initializing CamembertForMaskedLM from the checkpoint of a model trained on another task or with another architecture (e.g. initializing a BertForSequenceClassification model from a BertForPreTraining model).\n",
      "- This IS NOT expected if you are initializing CamembertForMaskedLM from the checkpoint of a model that you expect to be exactly identical (initializing a BertForSequenceClassification model from a BertForSequenceClassification model).\n"
     ]
    },
    {
     "name": "stdout",
     "output_type": "stream",
     "text": [
      "Parameter containing:\n",
      "tensor([[-0.0574,  0.0302,  0.0032,  ...,  0.1065,  0.0107, -0.0412],\n",
      "        [ 0.0034, -0.0558, -0.0055,  ..., -0.0320, -0.0056, -0.0277],\n",
      "        [-0.0134,  0.1370,  0.0675,  ...,  0.0010,  0.0781,  0.0418],\n",
      "        ...,\n",
      "        [-0.0314,  0.1143,  0.0729,  ...,  0.0191,  0.1501, -0.1471],\n",
      "        [-0.1260, -0.1190, -0.0851,  ..., -0.1236,  0.0079, -0.1979],\n",
      "        [ 0.0143, -0.0271,  0.0035,  ..., -0.0069,  0.0107, -0.0072]],\n",
      "       requires_grad=True)\n",
      "\n",
      "Parameter containing:\n",
      "tensor([[-0.0574,  0.0302,  0.0032,  ...,  0.1065,  0.0107, -0.0412],\n",
      "        [ 0.0034, -0.0558, -0.0055,  ..., -0.0320, -0.0056, -0.0277],\n",
      "        [-0.0134,  0.1370,  0.0675,  ...,  0.0010,  0.0781,  0.0418],\n",
      "        ...,\n",
      "        [-0.0314,  0.1143,  0.0729,  ...,  0.0191,  0.1501, -0.1471],\n",
      "        [-0.1260, -0.1190, -0.0851,  ..., -0.1236,  0.0079, -0.1979],\n",
      "        [ 0.0143, -0.0271,  0.0035,  ..., -0.0069,  0.0107, -0.0072]],\n",
      "       requires_grad=True)\n"
     ]
    }
   ],
   "source": [
    "mlm_model = CamembertForMaskedLM.from_pretrained('camembert-base')\n",
    "\n",
    "mlm_model\n",
    "print(mlm_model.lm_head.decoder.weight)\n",
    "print()\n",
    "print(mlm_model.roberta.embeddings.word_embeddings.weight)"
   ]
  },
  {
   "cell_type": "code",
   "execution_count": 127,
   "metadata": {},
   "outputs": [
    {
     "name": "stdout",
     "output_type": "stream",
     "text": [
      "Initializing Embedding with Xavier Uniform\n",
      "Initializing Embedding with Xavier Uniform\n",
      "Initializing Embedding with Xavier Uniform\n",
      "Initializing LayerNorm with Constant Weights\n",
      "Initializing Bias for LayerNorm\n",
      "Initializing Linear with Xavier Uniform\n",
      "Initializing Bias for Linear\n",
      "Initializing Linear with Xavier Uniform\n",
      "Initializing Bias for Linear\n",
      "Initializing Linear with Xavier Uniform\n",
      "Initializing Bias for Linear\n",
      "Initializing Linear with Xavier Uniform\n",
      "Initializing Bias for Linear\n",
      "Initializing LayerNorm with Constant Weights\n",
      "Initializing Bias for LayerNorm\n",
      "Initializing Linear with Xavier Uniform\n",
      "Initializing Bias for Linear\n",
      "Initializing Linear with Xavier Uniform\n",
      "Initializing Bias for Linear\n",
      "Initializing LayerNorm with Constant Weights\n",
      "Initializing Bias for LayerNorm\n",
      "Initializing Linear with Xavier Uniform\n",
      "Initializing Bias for Linear\n",
      "Initializing Linear with Xavier Uniform\n",
      "Initializing Bias for Linear\n",
      "Initializing Linear with Xavier Uniform\n",
      "Initializing Bias for Linear\n",
      "Initializing Linear with Xavier Uniform\n",
      "Initializing Bias for Linear\n",
      "Initializing LayerNorm with Constant Weights\n",
      "Initializing Bias for LayerNorm\n",
      "Initializing Linear with Xavier Uniform\n",
      "Initializing Bias for Linear\n",
      "Initializing Linear with Xavier Uniform\n",
      "Initializing Bias for Linear\n",
      "Initializing LayerNorm with Constant Weights\n",
      "Initializing Bias for LayerNorm\n",
      "Initializing Linear with Xavier Uniform\n",
      "Initializing Bias for Linear\n",
      "Initializing Linear with Xavier Uniform\n",
      "Initializing Bias for Linear\n",
      "Initializing Linear with Xavier Uniform\n",
      "Initializing Bias for Linear\n",
      "Initializing Linear with Xavier Uniform\n",
      "Initializing Bias for Linear\n",
      "Initializing LayerNorm with Constant Weights\n",
      "Initializing Bias for LayerNorm\n",
      "Initializing Linear with Xavier Uniform\n",
      "Initializing Bias for Linear\n",
      "Initializing Linear with Xavier Uniform\n",
      "Initializing Bias for Linear\n",
      "Initializing LayerNorm with Constant Weights\n",
      "Initializing Bias for LayerNorm\n",
      "Initializing Linear with Xavier Uniform\n",
      "Initializing Bias for Linear\n",
      "Initializing Linear with Xavier Uniform\n",
      "Initializing Bias for Linear\n",
      "Initializing Linear with Xavier Uniform\n",
      "Initializing Bias for Linear\n",
      "Initializing Linear with Xavier Uniform\n",
      "Initializing Bias for Linear\n",
      "Initializing LayerNorm with Constant Weights\n",
      "Initializing Bias for LayerNorm\n",
      "Initializing Linear with Xavier Uniform\n",
      "Initializing Bias for Linear\n",
      "Initializing Linear with Xavier Uniform\n",
      "Initializing Bias for Linear\n",
      "Initializing LayerNorm with Constant Weights\n",
      "Initializing Bias for LayerNorm\n",
      "Initializing Linear with Xavier Uniform\n",
      "Initializing Bias for Linear\n",
      "Initializing Linear with Xavier Uniform\n",
      "Initializing Bias for Linear\n",
      "Initializing Linear with Xavier Uniform\n",
      "Initializing Bias for Linear\n",
      "Initializing Linear with Xavier Uniform\n",
      "Initializing Bias for Linear\n",
      "Initializing LayerNorm with Constant Weights\n",
      "Initializing Bias for LayerNorm\n",
      "Initializing Linear with Xavier Uniform\n",
      "Initializing Bias for Linear\n",
      "Initializing Linear with Xavier Uniform\n",
      "Initializing Bias for Linear\n",
      "Initializing LayerNorm with Constant Weights\n",
      "Initializing Bias for LayerNorm\n",
      "Initializing Linear with Xavier Uniform\n",
      "Initializing Bias for Linear\n",
      "Initializing Linear with Xavier Uniform\n",
      "Initializing Bias for Linear\n",
      "Initializing Linear with Xavier Uniform\n",
      "Initializing Bias for Linear\n",
      "Initializing Linear with Xavier Uniform\n",
      "Initializing Bias for Linear\n",
      "Initializing LayerNorm with Constant Weights\n",
      "Initializing Bias for LayerNorm\n",
      "Initializing Linear with Xavier Uniform\n",
      "Initializing Bias for Linear\n",
      "Initializing Linear with Xavier Uniform\n",
      "Initializing Bias for Linear\n",
      "Initializing LayerNorm with Constant Weights\n",
      "Initializing Bias for LayerNorm\n",
      "Initializing Linear with Xavier Uniform\n",
      "Initializing Bias for Linear\n",
      "Initializing Linear with Xavier Uniform\n",
      "Initializing Bias for Linear\n",
      "Initializing Linear with Xavier Uniform\n",
      "Initializing Bias for Linear\n",
      "Initializing Linear with Xavier Uniform\n",
      "Initializing Bias for Linear\n",
      "Initializing LayerNorm with Constant Weights\n",
      "Initializing Bias for LayerNorm\n",
      "Initializing Linear with Xavier Uniform\n",
      "Initializing Bias for Linear\n",
      "Initializing Linear with Xavier Uniform\n",
      "Initializing Bias for Linear\n",
      "Initializing LayerNorm with Constant Weights\n",
      "Initializing Bias for LayerNorm\n",
      "Initializing Linear with Xavier Uniform\n",
      "Initializing Bias for Linear\n",
      "Initializing Linear with Xavier Uniform\n",
      "Initializing Bias for Linear\n",
      "Initializing Linear with Xavier Uniform\n",
      "Initializing Bias for Linear\n",
      "Initializing Linear with Xavier Uniform\n",
      "Initializing Bias for Linear\n",
      "Initializing LayerNorm with Constant Weights\n",
      "Initializing Bias for LayerNorm\n",
      "Initializing Linear with Xavier Uniform\n",
      "Initializing Bias for Linear\n",
      "Initializing Linear with Xavier Uniform\n",
      "Initializing Bias for Linear\n",
      "Initializing LayerNorm with Constant Weights\n",
      "Initializing Bias for LayerNorm\n",
      "Initializing Linear with Xavier Uniform\n",
      "Initializing Bias for Linear\n",
      "Initializing Linear with Xavier Uniform\n",
      "Initializing Bias for Linear\n",
      "Initializing Linear with Xavier Uniform\n",
      "Initializing Bias for Linear\n",
      "Initializing Linear with Xavier Uniform\n",
      "Initializing Bias for Linear\n",
      "Initializing LayerNorm with Constant Weights\n",
      "Initializing Bias for LayerNorm\n",
      "Initializing Linear with Xavier Uniform\n",
      "Initializing Bias for Linear\n",
      "Initializing Linear with Xavier Uniform\n",
      "Initializing Bias for Linear\n",
      "Initializing LayerNorm with Constant Weights\n",
      "Initializing Bias for LayerNorm\n",
      "Initializing Linear with Xavier Uniform\n",
      "Initializing Bias for Linear\n",
      "Initializing Linear with Xavier Uniform\n",
      "Initializing Bias for Linear\n",
      "Initializing Linear with Xavier Uniform\n",
      "Initializing Bias for Linear\n",
      "Initializing Linear with Xavier Uniform\n",
      "Initializing Bias for Linear\n",
      "Initializing LayerNorm with Constant Weights\n",
      "Initializing Bias for LayerNorm\n",
      "Initializing Linear with Xavier Uniform\n",
      "Initializing Bias for Linear\n",
      "Initializing Linear with Xavier Uniform\n",
      "Initializing Bias for Linear\n",
      "Initializing LayerNorm with Constant Weights\n",
      "Initializing Bias for LayerNorm\n",
      "Initializing Linear with Xavier Uniform\n",
      "Initializing Bias for Linear\n",
      "Initializing Linear with Xavier Uniform\n",
      "Initializing Bias for Linear\n",
      "Initializing Linear with Xavier Uniform\n",
      "Initializing Bias for Linear\n",
      "Initializing Linear with Xavier Uniform\n",
      "Initializing Bias for Linear\n",
      "Initializing LayerNorm with Constant Weights\n",
      "Initializing Bias for LayerNorm\n",
      "Initializing Linear with Xavier Uniform\n",
      "Initializing Bias for Linear\n",
      "Initializing Linear with Xavier Uniform\n",
      "Initializing Bias for Linear\n",
      "Initializing LayerNorm with Constant Weights\n",
      "Initializing Bias for LayerNorm\n",
      "Initializing Linear with Xavier Uniform\n",
      "Initializing Bias for Linear\n",
      "Initializing Linear with Xavier Uniform\n",
      "Initializing Bias for Linear\n",
      "Initializing Linear with Xavier Uniform\n",
      "Initializing Bias for Linear\n",
      "Initializing Linear with Xavier Uniform\n",
      "Initializing Bias for Linear\n",
      "Initializing LayerNorm with Constant Weights\n",
      "Initializing Bias for LayerNorm\n",
      "Initializing Linear with Xavier Uniform\n",
      "Initializing Bias for Linear\n",
      "Initializing Linear with Xavier Uniform\n",
      "Initializing Bias for Linear\n",
      "Initializing LayerNorm with Constant Weights\n",
      "Initializing Bias for LayerNorm\n",
      "Initializing Linear with Xavier Uniform\n",
      "Initializing Bias for Linear\n",
      "Parameter containing:\n",
      "tensor([[-0.0574,  0.0302,  0.0032,  ...,  0.1065,  0.0107, -0.0412],\n",
      "        [ 0.0034, -0.0558, -0.0055,  ..., -0.0320, -0.0056, -0.0277],\n",
      "        [-0.0134,  0.1370,  0.0675,  ...,  0.0010,  0.0781,  0.0418],\n",
      "        ...,\n",
      "        [-0.0314,  0.1143,  0.0729,  ...,  0.0191,  0.1501, -0.1471],\n",
      "        [-0.1260, -0.1190, -0.0851,  ..., -0.1236,  0.0079, -0.1979],\n",
      "        [ 0.0143, -0.0271,  0.0035,  ..., -0.0069,  0.0107, -0.0072]],\n",
      "       requires_grad=True)\n",
      "\n",
      "Parameter containing:\n",
      "tensor([[-0.0574,  0.0302,  0.0032,  ...,  0.1065,  0.0107, -0.0412],\n",
      "        [ 0.0034, -0.0558, -0.0055,  ..., -0.0320, -0.0056, -0.0277],\n",
      "        [-0.0134,  0.1370,  0.0675,  ...,  0.0010,  0.0781,  0.0418],\n",
      "        ...,\n",
      "        [-0.0314,  0.1143,  0.0729,  ...,  0.0191,  0.1501, -0.1471],\n",
      "        [-0.1260, -0.1190, -0.0851,  ..., -0.1236,  0.0079, -0.1979],\n",
      "        [ 0.0143, -0.0271,  0.0035,  ..., -0.0069,  0.0107, -0.0072]],\n",
      "       requires_grad=True)\n"
     ]
    }
   ],
   "source": [
    "model.apply(init_weights)\n",
    "print(mlm_model.lm_head.decoder.weight)\n",
    "print()\n",
    "print(mlm_model.roberta.embeddings.word_embeddings.weight)"
   ]
  },
  {
   "cell_type": "code",
   "execution_count": 90,
   "metadata": {},
   "outputs": [
    {
     "name": "stderr",
     "output_type": "stream",
     "text": [
      "Some weights of the model checkpoint at camembert-base were not used when initializing CamembertForMaskedLM: ['roberta.pooler.dense.bias', 'roberta.pooler.dense.weight']\n",
      "- This IS expected if you are initializing CamembertForMaskedLM from the checkpoint of a model trained on another task or with another architecture (e.g. initializing a BertForSequenceClassification model from a BertForPreTraining model).\n",
      "- This IS NOT expected if you are initializing CamembertForMaskedLM from the checkpoint of a model that you expect to be exactly identical (initializing a BertForSequenceClassification model from a BertForSequenceClassification model).\n"
     ]
    },
    {
     "name": "stdout",
     "output_type": "stream",
     "text": [
      "Nombre total de modules : 202\n",
      "Nombre de modules modifiés : 76\n",
      "\n",
      "roberta.embeddings.word_embeddings.weight: Changed\n",
      "roberta.embeddings.position_embeddings.weight: Changed\n",
      "roberta.embeddings.token_type_embeddings.weight: Changed\n",
      "roberta.embeddings.LayerNorm.weight: Unchanged\n",
      "roberta.embeddings.LayerNorm.bias: Unchanged\n",
      "roberta.encoder.layer.0.attention.self.query.weight: Changed\n",
      "roberta.encoder.layer.0.attention.self.query.bias: Unchanged\n",
      "roberta.encoder.layer.0.attention.self.key.weight: Changed\n",
      "roberta.encoder.layer.0.attention.self.key.bias: Unchanged\n",
      "roberta.encoder.layer.0.attention.self.value.weight: Changed\n",
      "roberta.encoder.layer.0.attention.self.value.bias: Unchanged\n",
      "roberta.encoder.layer.0.attention.output.dense.weight: Changed\n",
      "roberta.encoder.layer.0.attention.output.dense.bias: Unchanged\n",
      "roberta.encoder.layer.0.attention.output.LayerNorm.weight: Unchanged\n",
      "roberta.encoder.layer.0.attention.output.LayerNorm.bias: Unchanged\n",
      "roberta.encoder.layer.0.intermediate.dense.weight: Changed\n",
      "roberta.encoder.layer.0.intermediate.dense.bias: Unchanged\n",
      "roberta.encoder.layer.0.output.dense.weight: Changed\n",
      "roberta.encoder.layer.0.output.dense.bias: Unchanged\n",
      "roberta.encoder.layer.0.output.LayerNorm.weight: Unchanged\n",
      "roberta.encoder.layer.0.output.LayerNorm.bias: Unchanged\n",
      "roberta.encoder.layer.1.attention.self.query.weight: Changed\n",
      "roberta.encoder.layer.1.attention.self.query.bias: Unchanged\n",
      "roberta.encoder.layer.1.attention.self.key.weight: Changed\n",
      "roberta.encoder.layer.1.attention.self.key.bias: Unchanged\n",
      "roberta.encoder.layer.1.attention.self.value.weight: Changed\n",
      "roberta.encoder.layer.1.attention.self.value.bias: Unchanged\n",
      "roberta.encoder.layer.1.attention.output.dense.weight: Changed\n",
      "roberta.encoder.layer.1.attention.output.dense.bias: Unchanged\n",
      "roberta.encoder.layer.1.attention.output.LayerNorm.weight: Unchanged\n",
      "roberta.encoder.layer.1.attention.output.LayerNorm.bias: Unchanged\n",
      "roberta.encoder.layer.1.intermediate.dense.weight: Changed\n",
      "roberta.encoder.layer.1.intermediate.dense.bias: Unchanged\n",
      "roberta.encoder.layer.1.output.dense.weight: Changed\n",
      "roberta.encoder.layer.1.output.dense.bias: Unchanged\n",
      "roberta.encoder.layer.1.output.LayerNorm.weight: Unchanged\n",
      "roberta.encoder.layer.1.output.LayerNorm.bias: Unchanged\n",
      "roberta.encoder.layer.2.attention.self.query.weight: Changed\n",
      "roberta.encoder.layer.2.attention.self.query.bias: Unchanged\n",
      "roberta.encoder.layer.2.attention.self.key.weight: Changed\n",
      "roberta.encoder.layer.2.attention.self.key.bias: Unchanged\n",
      "roberta.encoder.layer.2.attention.self.value.weight: Changed\n",
      "roberta.encoder.layer.2.attention.self.value.bias: Unchanged\n",
      "roberta.encoder.layer.2.attention.output.dense.weight: Changed\n",
      "roberta.encoder.layer.2.attention.output.dense.bias: Unchanged\n",
      "roberta.encoder.layer.2.attention.output.LayerNorm.weight: Unchanged\n",
      "roberta.encoder.layer.2.attention.output.LayerNorm.bias: Unchanged\n",
      "roberta.encoder.layer.2.intermediate.dense.weight: Changed\n",
      "roberta.encoder.layer.2.intermediate.dense.bias: Unchanged\n",
      "roberta.encoder.layer.2.output.dense.weight: Changed\n",
      "roberta.encoder.layer.2.output.dense.bias: Unchanged\n",
      "roberta.encoder.layer.2.output.LayerNorm.weight: Unchanged\n",
      "roberta.encoder.layer.2.output.LayerNorm.bias: Unchanged\n",
      "roberta.encoder.layer.3.attention.self.query.weight: Changed\n",
      "roberta.encoder.layer.3.attention.self.query.bias: Unchanged\n",
      "roberta.encoder.layer.3.attention.self.key.weight: Changed\n",
      "roberta.encoder.layer.3.attention.self.key.bias: Unchanged\n",
      "roberta.encoder.layer.3.attention.self.value.weight: Changed\n",
      "roberta.encoder.layer.3.attention.self.value.bias: Unchanged\n",
      "roberta.encoder.layer.3.attention.output.dense.weight: Changed\n",
      "roberta.encoder.layer.3.attention.output.dense.bias: Unchanged\n",
      "roberta.encoder.layer.3.attention.output.LayerNorm.weight: Unchanged\n",
      "roberta.encoder.layer.3.attention.output.LayerNorm.bias: Unchanged\n",
      "roberta.encoder.layer.3.intermediate.dense.weight: Changed\n",
      "roberta.encoder.layer.3.intermediate.dense.bias: Unchanged\n",
      "roberta.encoder.layer.3.output.dense.weight: Changed\n",
      "roberta.encoder.layer.3.output.dense.bias: Unchanged\n",
      "roberta.encoder.layer.3.output.LayerNorm.weight: Unchanged\n",
      "roberta.encoder.layer.3.output.LayerNorm.bias: Unchanged\n",
      "roberta.encoder.layer.4.attention.self.query.weight: Changed\n",
      "roberta.encoder.layer.4.attention.self.query.bias: Unchanged\n",
      "roberta.encoder.layer.4.attention.self.key.weight: Changed\n",
      "roberta.encoder.layer.4.attention.self.key.bias: Unchanged\n",
      "roberta.encoder.layer.4.attention.self.value.weight: Changed\n",
      "roberta.encoder.layer.4.attention.self.value.bias: Unchanged\n",
      "roberta.encoder.layer.4.attention.output.dense.weight: Changed\n",
      "roberta.encoder.layer.4.attention.output.dense.bias: Unchanged\n",
      "roberta.encoder.layer.4.attention.output.LayerNorm.weight: Unchanged\n",
      "roberta.encoder.layer.4.attention.output.LayerNorm.bias: Unchanged\n",
      "roberta.encoder.layer.4.intermediate.dense.weight: Changed\n",
      "roberta.encoder.layer.4.intermediate.dense.bias: Unchanged\n",
      "roberta.encoder.layer.4.output.dense.weight: Changed\n",
      "roberta.encoder.layer.4.output.dense.bias: Unchanged\n",
      "roberta.encoder.layer.4.output.LayerNorm.weight: Unchanged\n",
      "roberta.encoder.layer.4.output.LayerNorm.bias: Unchanged\n",
      "roberta.encoder.layer.5.attention.self.query.weight: Changed\n",
      "roberta.encoder.layer.5.attention.self.query.bias: Unchanged\n",
      "roberta.encoder.layer.5.attention.self.key.weight: Changed\n",
      "roberta.encoder.layer.5.attention.self.key.bias: Unchanged\n",
      "roberta.encoder.layer.5.attention.self.value.weight: Changed\n",
      "roberta.encoder.layer.5.attention.self.value.bias: Unchanged\n",
      "roberta.encoder.layer.5.attention.output.dense.weight: Changed\n",
      "roberta.encoder.layer.5.attention.output.dense.bias: Unchanged\n",
      "roberta.encoder.layer.5.attention.output.LayerNorm.weight: Unchanged\n",
      "roberta.encoder.layer.5.attention.output.LayerNorm.bias: Unchanged\n",
      "roberta.encoder.layer.5.intermediate.dense.weight: Changed\n",
      "roberta.encoder.layer.5.intermediate.dense.bias: Unchanged\n",
      "roberta.encoder.layer.5.output.dense.weight: Changed\n",
      "roberta.encoder.layer.5.output.dense.bias: Unchanged\n",
      "roberta.encoder.layer.5.output.LayerNorm.weight: Unchanged\n",
      "roberta.encoder.layer.5.output.LayerNorm.bias: Unchanged\n",
      "roberta.encoder.layer.6.attention.self.query.weight: Changed\n",
      "roberta.encoder.layer.6.attention.self.query.bias: Unchanged\n",
      "roberta.encoder.layer.6.attention.self.key.weight: Changed\n",
      "roberta.encoder.layer.6.attention.self.key.bias: Unchanged\n",
      "roberta.encoder.layer.6.attention.self.value.weight: Changed\n",
      "roberta.encoder.layer.6.attention.self.value.bias: Unchanged\n",
      "roberta.encoder.layer.6.attention.output.dense.weight: Changed\n",
      "roberta.encoder.layer.6.attention.output.dense.bias: Unchanged\n",
      "roberta.encoder.layer.6.attention.output.LayerNorm.weight: Unchanged\n",
      "roberta.encoder.layer.6.attention.output.LayerNorm.bias: Unchanged\n",
      "roberta.encoder.layer.6.intermediate.dense.weight: Changed\n",
      "roberta.encoder.layer.6.intermediate.dense.bias: Unchanged\n",
      "roberta.encoder.layer.6.output.dense.weight: Changed\n",
      "roberta.encoder.layer.6.output.dense.bias: Unchanged\n",
      "roberta.encoder.layer.6.output.LayerNorm.weight: Unchanged\n",
      "roberta.encoder.layer.6.output.LayerNorm.bias: Unchanged\n",
      "roberta.encoder.layer.7.attention.self.query.weight: Changed\n",
      "roberta.encoder.layer.7.attention.self.query.bias: Unchanged\n",
      "roberta.encoder.layer.7.attention.self.key.weight: Changed\n",
      "roberta.encoder.layer.7.attention.self.key.bias: Unchanged\n",
      "roberta.encoder.layer.7.attention.self.value.weight: Changed\n",
      "roberta.encoder.layer.7.attention.self.value.bias: Unchanged\n",
      "roberta.encoder.layer.7.attention.output.dense.weight: Changed\n",
      "roberta.encoder.layer.7.attention.output.dense.bias: Unchanged\n",
      "roberta.encoder.layer.7.attention.output.LayerNorm.weight: Unchanged\n",
      "roberta.encoder.layer.7.attention.output.LayerNorm.bias: Unchanged\n",
      "roberta.encoder.layer.7.intermediate.dense.weight: Changed\n",
      "roberta.encoder.layer.7.intermediate.dense.bias: Unchanged\n",
      "roberta.encoder.layer.7.output.dense.weight: Changed\n",
      "roberta.encoder.layer.7.output.dense.bias: Unchanged\n",
      "roberta.encoder.layer.7.output.LayerNorm.weight: Unchanged\n",
      "roberta.encoder.layer.7.output.LayerNorm.bias: Unchanged\n",
      "roberta.encoder.layer.8.attention.self.query.weight: Changed\n",
      "roberta.encoder.layer.8.attention.self.query.bias: Unchanged\n",
      "roberta.encoder.layer.8.attention.self.key.weight: Changed\n",
      "roberta.encoder.layer.8.attention.self.key.bias: Unchanged\n",
      "roberta.encoder.layer.8.attention.self.value.weight: Changed\n",
      "roberta.encoder.layer.8.attention.self.value.bias: Unchanged\n",
      "roberta.encoder.layer.8.attention.output.dense.weight: Changed\n",
      "roberta.encoder.layer.8.attention.output.dense.bias: Unchanged\n",
      "roberta.encoder.layer.8.attention.output.LayerNorm.weight: Unchanged\n",
      "roberta.encoder.layer.8.attention.output.LayerNorm.bias: Unchanged\n",
      "roberta.encoder.layer.8.intermediate.dense.weight: Changed\n",
      "roberta.encoder.layer.8.intermediate.dense.bias: Unchanged\n",
      "roberta.encoder.layer.8.output.dense.weight: Changed\n",
      "roberta.encoder.layer.8.output.dense.bias: Unchanged\n",
      "roberta.encoder.layer.8.output.LayerNorm.weight: Unchanged\n",
      "roberta.encoder.layer.8.output.LayerNorm.bias: Unchanged\n",
      "roberta.encoder.layer.9.attention.self.query.weight: Changed\n",
      "roberta.encoder.layer.9.attention.self.query.bias: Unchanged\n",
      "roberta.encoder.layer.9.attention.self.key.weight: Changed\n",
      "roberta.encoder.layer.9.attention.self.key.bias: Unchanged\n",
      "roberta.encoder.layer.9.attention.self.value.weight: Changed\n",
      "roberta.encoder.layer.9.attention.self.value.bias: Unchanged\n",
      "roberta.encoder.layer.9.attention.output.dense.weight: Changed\n",
      "roberta.encoder.layer.9.attention.output.dense.bias: Unchanged\n",
      "roberta.encoder.layer.9.attention.output.LayerNorm.weight: Unchanged\n",
      "roberta.encoder.layer.9.attention.output.LayerNorm.bias: Unchanged\n",
      "roberta.encoder.layer.9.intermediate.dense.weight: Changed\n",
      "roberta.encoder.layer.9.intermediate.dense.bias: Unchanged\n",
      "roberta.encoder.layer.9.output.dense.weight: Changed\n",
      "roberta.encoder.layer.9.output.dense.bias: Unchanged\n",
      "roberta.encoder.layer.9.output.LayerNorm.weight: Unchanged\n",
      "roberta.encoder.layer.9.output.LayerNorm.bias: Unchanged\n",
      "roberta.encoder.layer.10.attention.self.query.weight: Changed\n",
      "roberta.encoder.layer.10.attention.self.query.bias: Unchanged\n",
      "roberta.encoder.layer.10.attention.self.key.weight: Changed\n",
      "roberta.encoder.layer.10.attention.self.key.bias: Unchanged\n",
      "roberta.encoder.layer.10.attention.self.value.weight: Changed\n",
      "roberta.encoder.layer.10.attention.self.value.bias: Unchanged\n",
      "roberta.encoder.layer.10.attention.output.dense.weight: Changed\n",
      "roberta.encoder.layer.10.attention.output.dense.bias: Unchanged\n",
      "roberta.encoder.layer.10.attention.output.LayerNorm.weight: Unchanged\n",
      "roberta.encoder.layer.10.attention.output.LayerNorm.bias: Unchanged\n",
      "roberta.encoder.layer.10.intermediate.dense.weight: Changed\n",
      "roberta.encoder.layer.10.intermediate.dense.bias: Unchanged\n",
      "roberta.encoder.layer.10.output.dense.weight: Changed\n",
      "roberta.encoder.layer.10.output.dense.bias: Unchanged\n",
      "roberta.encoder.layer.10.output.LayerNorm.weight: Unchanged\n",
      "roberta.encoder.layer.10.output.LayerNorm.bias: Unchanged\n",
      "roberta.encoder.layer.11.attention.self.query.weight: Changed\n",
      "roberta.encoder.layer.11.attention.self.query.bias: Unchanged\n",
      "roberta.encoder.layer.11.attention.self.key.weight: Changed\n",
      "roberta.encoder.layer.11.attention.self.key.bias: Unchanged\n",
      "roberta.encoder.layer.11.attention.self.value.weight: Changed\n",
      "roberta.encoder.layer.11.attention.self.value.bias: Unchanged\n",
      "roberta.encoder.layer.11.attention.output.dense.weight: Changed\n",
      "roberta.encoder.layer.11.attention.output.dense.bias: Unchanged\n",
      "roberta.encoder.layer.11.attention.output.LayerNorm.weight: Unchanged\n",
      "roberta.encoder.layer.11.attention.output.LayerNorm.bias: Unchanged\n",
      "roberta.encoder.layer.11.intermediate.dense.weight: Changed\n",
      "roberta.encoder.layer.11.intermediate.dense.bias: Unchanged\n",
      "roberta.encoder.layer.11.output.dense.weight: Changed\n",
      "roberta.encoder.layer.11.output.dense.bias: Unchanged\n",
      "roberta.encoder.layer.11.output.LayerNorm.weight: Unchanged\n",
      "roberta.encoder.layer.11.output.LayerNorm.bias: Unchanged\n",
      "lm_head.bias: Unchanged\n",
      "lm_head.dense.weight: Changed\n",
      "lm_head.dense.bias: Unchanged\n",
      "lm_head.layer_norm.weight: Unchanged\n",
      "lm_head.layer_norm.bias: Unchanged\n"
     ]
    }
   ],
   "source": [
    "import torch.nn as nn\n",
    "from transformers import CamembertForMaskedLM\n",
    "\n",
    "# Fonction d'initialisation des poids\n",
    "def init_weights(module):\n",
    "    if isinstance(module, (nn.Linear, nn.Embedding)):\n",
    "        nn.init.xavier_uniform_(module.weight)\n",
    "    elif isinstance(module, nn.LayerNorm):\n",
    "        nn.init.constant_(module.bias, 0)\n",
    "        nn.init.constant_(module.weight, 1)\n",
    "    if hasattr(module, 'bias') and module.bias is not None:\n",
    "        nn.init.constant_(module.bias, 0)\n",
    "\n",
    "# Fonction pour comparer les poids avant et après réinitialisation\n",
    "def compare_weights(model, init_func):\n",
    "    # Stocker les poids initiaux\n",
    "    initial_weights = {name: param.clone() for name, param in model.named_parameters()}\n",
    "    \n",
    "    # Appliquer la fonction d'initialisation\n",
    "    model.apply(init_func)\n",
    "    \n",
    "    # Comparer les poids après réinitialisation\n",
    "    weight_comparison = {}\n",
    "    changed_count = 0\n",
    "    \n",
    "    for name, param in model.named_parameters():\n",
    "        changed = not torch.equal(initial_weights[name], param)\n",
    "        weight_comparison[name] = changed\n",
    "        if changed:\n",
    "            changed_count += 1\n",
    "    \n",
    "    return weight_comparison, changed_count\n",
    "\n",
    "# Charger le modèle Hugging Face\n",
    "from transformers import CamembertForMaskedLM\n",
    "model = CamembertForMaskedLM.from_pretrained(\"camembert-base\")\n",
    "model.apply(init_weights)\n",
    "\n",
    "# Comparer les poids\n",
    "comparison_results, changed_count = compare_weights(model, init_weights)\n",
    "\n",
    "# Afficher les résultats\n",
    "print(f\"Nombre total de modules : {len(comparison_results)}\")\n",
    "print(f\"Nombre de modules modifiés : {changed_count}\\n\")\n",
    "\n",
    "for name, changed in comparison_results.items():\n",
    "    print(f\"{name}: {'Changed' if changed else 'Unchanged'}\")\n"
   ]
  },
  {
   "cell_type": "markdown",
   "metadata": {},
   "source": [
    "# Data Preparation :"
   ]
  },
  {
   "cell_type": "code",
   "execution_count": 72,
   "metadata": {},
   "outputs": [],
   "source": [
    "import os\n",
    "import pickle   \n",
    "from datasets import load_from_disk\n",
    "from transformers import CamembertTokenizer\n",
    "from torch.utils.data import DataLoader, Dataset\n",
    "import torch\n",
    "from sklearn.model_selection import train_test_split\n",
    "from torch.nn import functional as F"
   ]
  },
  {
   "cell_type": "markdown",
   "metadata": {},
   "source": [
    "### Test the mask token function :"
   ]
  },
  {
   "cell_type": "code",
   "execution_count": 117,
   "metadata": {},
   "outputs": [],
   "source": [
    "def mask_tokens(inputs, tokenizer, mlm_probability=0.15):\n",
    "    \"\"\"Prepare masked tokens for MLM.\"\"\"\n",
    "    labels = inputs.clone()\n",
    "    probability_matrix = torch.full(labels.shape, mlm_probability)\n",
    "    special_tokens_mask = [\n",
    "        tokenizer.get_special_tokens_mask(val, already_has_special_tokens=True) for val in labels.tolist()\n",
    "    ]\n",
    "    probability_matrix.masked_fill_(torch.tensor(special_tokens_mask, dtype=torch.bool), value=0.0)\n",
    "    masked_indices = torch.bernoulli(probability_matrix).bool()\n",
    "    labels[~masked_indices] = -100  # We only compute loss on masked tokens\n",
    "\n",
    "    # Replace 80% of masked tokens with [MASK]\n",
    "    indices_replaced = torch.bernoulli(torch.full(labels.shape, 0.8)).bool() & masked_indices\n",
    "    inputs[indices_replaced] = tokenizer.convert_tokens_to_ids(tokenizer.mask_token)\n",
    "\n",
    "    # Replace 10% of masked tokens with random words\n",
    "    indices_random = torch.bernoulli(torch.full(labels.shape, 0.5)).bool() & masked_indices & ~indices_replaced\n",
    "    random_words = torch.randint(len(tokenizer), labels.shape, dtype=torch.long)\n",
    "    inputs[indices_random] = random_words[indices_random]\n",
    "\n",
    "    return inputs, labels\n"
   ]
  },
  {
   "cell_type": "code",
   "execution_count": 118,
   "metadata": {},
   "outputs": [
    {
     "name": "stdout",
     "output_type": "stream",
     "text": [
      "Tokens avant masquage : ['<s>', '▁Bonjour', '▁tout', '▁le', '▁monde', '.', '▁Comment', '▁ça', '▁va', '▁aujourd', \"'\", 'hui', '▁?', '</s>']\n",
      "Input IDs avant masquage : tensor([   5, 1285,   66,   16,  164,    9,  841,  136,  198,  405,   11,  265,\n",
      "         106,    6])\n",
      "\n",
      "Tokens après masquage : ['<s>', '▁Bonjour', '<mask>', '▁le', '▁monde', '.', '▁Comment', '▁ça', '▁va', '<mask>', \"'\", '<mask>', '<mask>', '</s>']\n",
      "Input IDs après masquage : tensor([    5,  1285, 32004,    16,   164,     9,   841,   136,   198, 32004,\n",
      "           11, 32004, 32004,     6])\n",
      "Labels : tensor([-100, -100,   66, -100, -100, -100, -100, -100, -100,  405, -100,  265,\n",
      "         106, -100])\n"
     ]
    }
   ],
   "source": [
    "tokenizer = CamembertTokenizer.from_pretrained(\"camembert-base\")\n",
    "# Exemple de phrase\n",
    "text = \"Bonjour tout le monde. Comment ça va aujourd'hui ?\"\n",
    "inputs = tokenizer(text, return_tensors=\"pt\", padding=True, truncation=True)\n",
    "\n",
    "# Afficher les tokens et les IDs d'entrée\n",
    "print(\"Tokens avant masquage :\", tokenizer.convert_ids_to_tokens(inputs[\"input_ids\"][0]))\n",
    "print(\"Input IDs avant masquage :\", inputs[\"input_ids\"][0])\n",
    "\n",
    "# Appliquer la fonction de masquage\n",
    "masked_inputs, labels = mask_tokens(inputs[\"input_ids\"], tokenizer)\n",
    "\n",
    "# Afficher les résultats après masquage\n",
    "print(\"\\nTokens après masquage :\", tokenizer.convert_ids_to_tokens(masked_inputs[0]))\n",
    "print(\"Input IDs après masquage :\", masked_inputs[0])\n",
    "print(\"Labels :\", labels[0])"
   ]
  },
  {
   "cell_type": "markdown",
   "metadata": {},
   "source": [
    "___"
   ]
  },
  {
   "cell_type": "markdown",
   "metadata": {},
   "source": [
    " DATA PREPROCESSING :"
   ]
  },
  {
   "cell_type": "code",
   "execution_count": 41,
   "metadata": {},
   "outputs": [],
   "source": [
    "class Tokenized_oscar_dataset(Dataset):\n",
    "    def __init__(self, raw_tokenised_data):\n",
    "        \"\"\"\n",
    "        Initialiser le dataset avec les données sous forme de dictionnaire.\n",
    "        \"\"\"\n",
    "        self.raw_data = raw_tokenised_data  # Le dictionnaire avec 'input_ids', 'attention_mask', et 'labels'\n",
    "        self.data = {\n",
    "            \"texts\": self.raw_data['text'],\n",
    "            \"input_ids\": self.raw_data['input_ids'],\n",
    "            \"attention_mask\": self.raw_data['attention_mask'],\n",
    "            \"labels\": self.raw_data['labels']\n",
    "        }\n",
    "        \n",
    "    def __len__(self):\n",
    "        \"\"\"\n",
    "        Retourne le nombre d'exemples dans le dataset.\n",
    "        \"\"\"\n",
    "        return len(self.data['input_ids'])\n",
    "    \n",
    "    def __getitem__(self, idx):\n",
    "        \"\"\"\n",
    "        Retourne un exemple individuel sous forme de dictionnaire.\n",
    "        \"\"\"\n",
    "        return {\n",
    "            'input_ids': torch.tensor(self.data['input_ids'][idx], dtype=torch.long),\n",
    "            'attention_mask': torch.tensor(self.data['attention_mask'][idx], dtype=torch.long),\n",
    "            'labels': torch.tensor(self.data['labels'][idx], dtype=torch.long)\n",
    "        }\n",
    "\n",
    "    \n",
    "def mask_tokens(inputs, tokenizer, mlm_probability=0.15):\n",
    "    \"\"\"Prepare masked tokens for MLM.\"\"\"\n",
    "    labels = inputs.clone()\n",
    "    probability_matrix = torch.full(labels.shape, mlm_probability)\n",
    "    special_tokens_mask = [\n",
    "        tokenizer.get_special_tokens_mask(val, already_has_special_tokens=True) for val in labels.tolist()\n",
    "    ]\n",
    "    probability_matrix.masked_fill_(torch.tensor(special_tokens_mask, dtype=torch.bool), value=0.0)\n",
    "    masked_indices = torch.bernoulli(probability_matrix).bool()\n",
    "    labels[~masked_indices] = -100  # We only compute loss on masked tokens\n",
    "\n",
    "    # Replace 80% of masked tokens with [MASK]\n",
    "    indices_replaced = torch.bernoulli(torch.full(labels.shape, 0.8)).bool() & masked_indices\n",
    "    inputs[indices_replaced] = tokenizer.convert_tokens_to_ids(tokenizer.mask_token)\n",
    "\n",
    "    # Replace 10% of masked tokens with random words\n",
    "    indices_random = torch.bernoulli(torch.full(labels.shape, 0.5)).bool() & masked_indices & ~indices_replaced\n",
    "    random_words = torch.randint(len(tokenizer), labels.shape, dtype=torch.long)\n",
    "    inputs[indices_random] = random_words[indices_random]\n",
    "\n",
    "    return inputs, labels\n",
    "\n",
    "# def preprocess_function(examples, tokenizer):\n",
    "#     # Tokeniser les textes\n",
    "#     tokenized = tokenizer(examples[\"text\"], padding=\"max_length\", truncation=True, return_tensors=\"pt\")\n",
    "#     print(tokenized.keys()) \n",
    "#     input_ids = tokenized[\"input_ids\"]\n",
    "#     attention_mask = tokenized[\"attention_mask\"]\n",
    "\n",
    "#     # Appliquer le masquage\n",
    "#     masked_inputs, labels = mask_tokens(input_ids, tokenizer)\n",
    "\n",
    "#     return { \n",
    "#         \"input_ids\": masked_inputs.tolist(),\n",
    "#         \"attention_mask\": attention_mask.tolist(),\n",
    "#         \"labels\": labels.tolist()\n",
    "#     }\n",
    "\n",
    "def preprocess_function(texts, tokenizer, max_length=512):\n",
    "    \"\"\"\n",
    "    Préparer les données pour l'entraînement MLM.\n",
    "    :param texts: Liste de textes.\n",
    "    :param tokenizer: Tokenizer de CamemBERT.\n",
    "    :return: Dictionnaire avec 'input_ids', 'attention_mask', et 'labels'.\n",
    "    \"\"\"\n",
    "    # Tokeniser les textes\n",
    "    tokenized = tokenizer(texts, max_length=max_length, padding=\"max_length\", truncation=True, return_tensors=\"pt\")\n",
    "    input_ids = tokenized[\"input_ids\"]\n",
    "    attention_mask = tokenized[\"attention_mask\"]\n",
    "\n",
    "    # Appliquer le masquage\n",
    "    masked_inputs, labels = mask_tokens(input_ids, tokenizer)\n",
    "\n",
    "    return { \n",
    "        \"text\": list(texts),\n",
    "        \"input_ids\": masked_inputs.tolist(),\n",
    "        \"attention_mask\": attention_mask.tolist(),\n",
    "        \"labels\": labels.tolist()\n",
    "    }"
   ]
  },
  {
   "cell_type": "code",
   "execution_count": 74,
   "metadata": {},
   "outputs": [],
   "source": [
    "dataset_path =\"data/oscar.Arrow\"\n",
    "mini_oscar_dataset = load_from_disk(dataset_path)\n",
    "train_texts, val_texts = train_test_split(mini_oscar_dataset['text'], test_size=0.2, random_state=42)"
   ]
  },
  {
   "cell_type": "code",
   "execution_count": 75,
   "metadata": {},
   "outputs": [
    {
     "data": {
      "text/plain": [
       "512"
      ]
     },
     "execution_count": 75,
     "metadata": {},
     "output_type": "execute_result"
    }
   ],
   "source": [
    "tokenizer = CamembertTokenizer.from_pretrained('camembert-base')\n",
    "tokenized = tokenizer(train_texts, padding=\"max_length\", truncation=True, return_tensors=\"pt\")\n",
    "len(tokenized['input_ids'][0])"
   ]
  },
  {
   "cell_type": "code",
   "execution_count": 76,
   "metadata": {},
   "outputs": [],
   "source": [
    "train_data = preprocess_function(train_texts, tokenizer)\n",
    "val_data = preprocess_function(val_texts, tokenizer)"
   ]
  },
  {
   "cell_type": "code",
   "execution_count": 77,
   "metadata": {},
   "outputs": [
    {
     "name": "stdout",
     "output_type": "stream",
     "text": [
      "Data saved to data/tokenized_data/tokenized_train_data.pkl\n",
      "Data saved to data/tokenized_data/tokenized_val_data.pkl\n"
     ]
    }
   ],
   "source": [
    "import os\n",
    "import pickle\n",
    "\n",
    "def save_tokenized_data(data, filename):\n",
    "    os.makedirs(os.path.dirname(filename), exist_ok=True)\n",
    "    with open(filename, \"wb\") as f:\n",
    "        pickle.dump(data, f)\n",
    "\n",
    "save_tokenized_data(train_data, \"data/tokenized_data/tokenized_train_data.pkl\")\n",
    "save_tokenized_data(val_data, \"data/tokenized_data/tokenized_val_data.pkl\")"
   ]
  },
  {
   "cell_type": "code",
   "execution_count": 86,
   "metadata": {},
   "outputs": [],
   "source": [
    "def load_tokenized_data(filename):\n",
    "    with open(filename, \"rb\") as f:\n",
    "        data = pickle.load(f)\n",
    "    return data\n",
    "\n",
    "train_data = load_tokenized_data(\"data/tokenized_data/tokenized_train_data.pkl\")\n",
    "val_data = load_tokenized_data(\"data/tokenized_data/tokenized_val_data.pkl\")"
   ]
  },
  {
   "cell_type": "code",
   "execution_count": 79,
   "metadata": {},
   "outputs": [
    {
     "data": {
      "text/plain": [
       "dict_keys(['text', 'input_ids', 'attention_mask', 'labels'])"
      ]
     },
     "execution_count": 79,
     "metadata": {},
     "output_type": "execute_result"
    }
   ],
   "source": [
    "train_data.keys()"
   ]
  },
  {
   "cell_type": "code",
   "execution_count": 80,
   "metadata": {},
   "outputs": [
    {
     "name": "stdout",
     "output_type": "stream",
     "text": [
      "8\n",
      "2\n"
     ]
    }
   ],
   "source": [
    "print(len(train_data['input_ids']))\n",
    "print(len(val_data['input_ids']))"
   ]
  },
  {
   "cell_type": "code",
   "execution_count": 81,
   "metadata": {},
   "outputs": [],
   "source": [
    "train_data = load_tokenized_data(\"data/tokenized_data/tokenized_train_data.pkl\")\n",
    "val_data = load_tokenized_data(\"data/tokenized_data/tokenized_val_data.pkl\")\n",
    "\n",
    "# Créer les datasets\n",
    "train_dataset = Tokenized_oscar_dataset(train_data)\n",
    "val_dataset = Tokenized_oscar_dataset(val_data)\n",
    "\n",
    "# Créer les DataLoaders\n",
    "train_loader = DataLoader(train_dataset, batch_size=8192, shuffle=True)\n",
    "val_loader = DataLoader(val_dataset, batch_size=8192, shuffle=False)"
   ]
  },
  {
   "cell_type": "code",
   "execution_count": 82,
   "metadata": {},
   "outputs": [
    {
     "name": "stdout",
     "output_type": "stream",
     "text": [
      "torch.Size([8, 512])\n",
      "torch.Size([8, 512])\n",
      "torch.Size([8, 512])\n"
     ]
    }
   ],
   "source": [
    "batch = next(iter(train_loader))\n",
    "print(batch['input_ids'].shape)\n",
    "print(batch['attention_mask'].shape)\n",
    "print(batch['labels'].shape)"
   ]
  },
  {
   "cell_type": "code",
   "execution_count": 83,
   "metadata": {},
   "outputs": [
    {
     "name": "stdout",
     "output_type": "stream",
     "text": [
      "Training samples: 8, Validation samples: 2\n"
     ]
    }
   ],
   "source": [
    "print(f\"Training samples: {len(train_texts)}, Validation samples: {len(val_texts)}\")"
   ]
  },
  {
   "cell_type": "markdown",
   "metadata": {},
   "source": [
    "___"
   ]
  },
  {
   "cell_type": "code",
   "execution_count": 60,
   "metadata": {},
   "outputs": [
    {
     "data": {
      "text/plain": [
       "Dataset({\n",
       "    features: ['text', 'input_ids', 'attention_mask', 'labels'],\n",
       "    num_rows: 10\n",
       "})"
      ]
     },
     "execution_count": 60,
     "metadata": {},
     "output_type": "execute_result"
    }
   ],
   "source": [
    "from datasets import load_from_disk\n",
    "tokenized_oscar = load_from_disk(\"data/tokenized_oscar.arrow\")\n",
    "tokenized_oscar"
   ]
  },
  {
   "cell_type": "code",
   "execution_count": 11,
   "metadata": {},
   "outputs": [
    {
     "name": "stdout",
     "output_type": "stream",
     "text": [
      "torch.Size([10, 512])\n",
      "torch.Size([10, 512])\n",
      "torch.Size([10, 512])\n"
     ]
    }
   ],
   "source": [
    "batch_size = 8192\n",
    "\n",
    "raw_tokenized_oscar = load_from_disk(\"data/tokenized_oscar.arrow\")\n",
    "tokenized_oscar = Tokenized_oscar_dataset(raw_tokenized_oscar)    \n",
    "train_loader = DataLoader(tokenized_oscar, batch_size=batch_size, shuffle=True)\n",
    "\n",
    "batch = next(iter(train_loader))\n",
    "print(batch['input_ids'].shape)\n",
    "print(batch['attention_mask'].shape)\n",
    "print(batch['labels'].shape)"
   ]
  },
  {
   "cell_type": "markdown",
   "metadata": {},
   "source": [
    "___"
   ]
  },
  {
   "cell_type": "markdown",
   "metadata": {},
   "source": [
    "## Training Loop :"
   ]
  },
  {
   "cell_type": "code",
   "execution_count": 177,
   "metadata": {},
   "outputs": [
    {
     "name": "stdout",
     "output_type": "stream",
     "text": [
      "Epoch : 0, step : 0, loss : 8.133624076843262\n",
      "Epoch : 0, step : 1, loss : 8.17203426361084\n",
      "Epoch : 1, step : 0, loss : 7.944967746734619\n",
      "Epoch : 1, step : 1, loss : 7.848634243011475\n"
     ]
    }
   ],
   "source": [
    "num_epochs = 2\n",
    "learning_rate = 1e-4\n",
    "optimizer = torch.optim.AdamW(model.parameters(), lr=learning_rate)\n",
    "# loss_fn = torch.nn.CrossEntropyLoss(ignore_index=-100)\n",
    "# loss_fn = F.cross_entropy(ignore_index=-100)\n",
    "history = {'train_loss': []}\n",
    "\n",
    "for epoch in range(num_epochs):\n",
    "    for batch_index, batch in enumerate(train_loader):\n",
    "        # 1. prepare data :\n",
    "        input_ids = batch['input_ids']\n",
    "        attention_mask = batch['attention_mask']\n",
    "        labels = batch['labels']\n",
    "        # 2. forward pass :\n",
    "        optimizer.zero_grad()\n",
    "        logits = model(input_ids, attention_mask=attention_mask)['logits']\n",
    "        loss = None\n",
    "        if labels is not None:\n",
    "            loss = F.cross_entropy(logits.view(-1, logits.size(-1)), labels.view(-1), ignore_index=-100)\n",
    "        # 3. backward pass :\n",
    "        loss.backward()\n",
    "        optimizer.step()\n",
    "        print(f\"Epoch : {epoch}, step : {batch_index}, loss : {loss.item()}\")\n",
    "        history['train_loss'].append(loss.item())\n",
    "    \n",
    "    # Save the model after each epoch\n",
    "    torch.save(model.state_dict(), f\"camembert-base-mlm-{epoch}.pth\")"
   ]
  },
  {
   "cell_type": "code",
   "execution_count": 179,
   "metadata": {},
   "outputs": [
    {
     "data": {
      "image/png": "[encoded data removed]",
      "text/plain": [
       "<Figure size 640x480 with 1 Axes>"
      ]
     },
     "metadata": {},
     "output_type": "display_data"
    }
   ],
   "source": [
    "import matplotlib.pyplot as plt\n",
    "\n",
    "def plot_training_history(history):\n",
    "    plt.plot(history['train_loss'], label='train_loss')\n",
    "    plt.title('Training History')\n",
    "    plt.xlabel('Steps')\n",
    "    plt.ylabel('Loss')\n",
    "    plt.grid()\n",
    "    plt.legend()\n",
    "    plt.show()\n",
    "\n",
    "plot_training_history(history)"
   ]
  },
  {
   "cell_type": "markdown",
   "metadata": {},
   "source": [
    "## testing loop (test hyper-params) :"
   ]
  },
  {
   "cell_type": "code",
   "execution_count": 104,
   "metadata": {},
   "outputs": [],
   "source": [
    "from tqdm import tqdm\n",
    "import time"
   ]
  },
  {
   "cell_type": "code",
   "execution_count": 110,
   "metadata": {},
   "outputs": [
    {
     "name": "stderr",
     "output_type": "stream",
     "text": [
      "Some weights of the model checkpoint at camembert-base were not used when initializing CamembertForMaskedLM: ['roberta.pooler.dense.bias', 'roberta.pooler.dense.weight']\n",
      "- This IS expected if you are initializing CamembertForMaskedLM from the checkpoint of a model trained on another task or with another architecture (e.g. initializing a BertForSequenceClassification model from a BertForPreTraining model).\n",
      "- This IS NOT expected if you are initializing CamembertForMaskedLM from the checkpoint of a model that you expect to be exactly identical (initializing a BertForSequenceClassification model from a BertForSequenceClassification model).\n"
     ]
    },
    {
     "name": "stdout",
     "output_type": "stream",
     "text": [
      "\n"
     ]
    }
   ],
   "source": [
    "# 1. data :\n",
    "batch_size = 4096\n",
    "train_data = load_tokenized_data(\"data/tokenized_data/tokenized_train_data.pkl\")\n",
    "val_data = load_tokenized_data(\"data/tokenized_data/tokenized_val_data.pkl\")\n",
    "\n",
    "#  1.1. Créer les datasets\n",
    "train_dataset = Tokenized_oscar_dataset(train_data)\n",
    "val_dataset = Tokenized_oscar_dataset(val_data)\n",
    "\n",
    "#  1.2. Créer les DataLoaders\n",
    "train_loader = DataLoader(train_dataset, batch_size=batch_size, shuffle=True)\n",
    "val_loader = DataLoader(val_dataset, batch_size=batch_size, shuffle=False)\n",
    "\n",
    "# 2. model :\n",
    "from transformers import CamembertForMaskedLM\n",
    "model = CamembertForMaskedLM.from_pretrained(\"camembert-base\")\n",
    "model.apply(init_weights)"
   ]
  },
  {
   "cell_type": "code",
   "execution_count": 113,
   "metadata": {},
   "outputs": [],
   "source": [
    "def save_checkpoint(epoch, model, optimizer, loss, save_dir):\n",
    "    \"\"\"\n",
    "    Sauvegarder l'état actuel du modèle, optimiseur et perte.\n",
    "    \"\"\"\n",
    "    checkpoint = {\n",
    "        \"epoch\": epoch,\n",
    "        \"model_state_dict\": model.state_dict(),\n",
    "        \"optimizer_state_dict\": optimizer.state_dict(),\n",
    "        \"loss\": loss,\n",
    "    }\n",
    "    save_path = os.path.join(save_dir, f\"checkpoint_epoch_{epoch}.pth\")\n",
    "    torch.save(checkpoint, save_path)\n",
    "    print(f\"Checkpoint saved at {save_path}\")\n"
   ]
  },
  {
   "cell_type": "code",
   "execution_count": null,
   "metadata": {},
   "outputs": [
    {
     "name": "stdout",
     "output_type": "stream",
     "text": [
      "Epoch 1, Validation Loss: 10.3084\n"
     ]
    },
    {
     "name": "stderr",
     "output_type": "stream",
     "text": [
      "Epoch 1/2: 100%|██████████| 2/2 [00:15<00:00,  7.59s/it, loss=10]  \n"
     ]
    },
    {
     "name": "stdout",
     "output_type": "stream",
     "text": [
      "Epoch 1, Training Loss: 9.9156, Time: 16.92 s\n",
      "Epoch 2, Validation Loss: 10.2917\n"
     ]
    },
    {
     "name": "stderr",
     "output_type": "stream",
     "text": [
      "Epoch 2/2: 100%|██████████| 2/2 [00:15<00:00,  7.59s/it, loss=9.6] \n"
     ]
    },
    {
     "name": "stdout",
     "output_type": "stream",
     "text": [
      "Epoch 2, Training Loss: 9.6472, Time: 16.31 s\n",
      "Checkpoint saved at models/mlm_training/model_checkpoints\\checkpoint_epoch_2.pth\n"
     ]
    }
   ],
   "source": [
    "# Configuration\n",
    "device = torch.device(\"cuda\" if torch.cuda.is_available() else \"cpu\")\n",
    "model = model.to(device)\n",
    "\n",
    "max_lr = 6e-4\n",
    "min_lr = max_lr * 0.1  # 10 %\n",
    "warmup_steps = 10\n",
    "\n",
    "save_interval = 40  # Save the model every 40 epochs \n",
    "eval_interval = 40  # Evaluate the model every 40 epochs\n",
    "num_epochs = 420  # Total epochs\n",
    "learning_rate = 1e-4\n",
    "\n",
    "optimizer = torch.optim.AdamW(model.parameters(), \n",
    "                              lr=learning_rate)\n",
    "history = {'train_loss': [], 'val_loss': []}\n",
    "\n",
    "# Dossier de sauvegarde\n",
    "save_dir = \"models/mlm_training/model_checkpoints\"\n",
    "os.makedirs(save_dir, exist_ok=True)\n",
    "\n",
    "############################## Training Loop ################################\n",
    "for epoch in range(num_epochs):\n",
    "    model.train()  # Mettre le modèle en mode entraînement\n",
    "    train_loss = 0.0  # Accumulateur pour la perte par époque\n",
    "\n",
    "    t0 = time.time()\n",
    "    \n",
    "    # once in a while evaluate our validation loss : (only for one step, next we'll consider more steps validation)\n",
    "    if epoch % 40 ==0 or epoch == num_epochs - 1:\n",
    "        model.eval()\n",
    "        with torch.no_grad():\n",
    "            val_loss = 0.0\n",
    "            for batch_index, batch in enumerate(val_loader):\n",
    "                # 1. Prepare val data :\n",
    "                input_ids = batch['input_ids'].to(device)\n",
    "                attention_mask = batch['attention_mask'].to(device)\n",
    "                labels = batch['labels'].to(device)\n",
    "                # 2. Forward pass :\n",
    "                # optimizer.zero_grad() not needed since torch.no_grad is used \n",
    "                logits = model(input_ids, attention_mask=attention_mask)['logits']\n",
    "                loss = F.cross_entropy(logits.view(-1, logits.size(-1)), labels.view(-1), ignore_index=-100)\n",
    "\n",
    "                val_loss += loss.item()\n",
    "            avg_val_loss = val_loss / len(val_loader)\n",
    "            print(f\"Epoch {epoch + 1 }, Validation Loss: {avg_val_loss:.4f}\")\n",
    "            history['val_loss'].append(avg_val_loss)\n",
    "\n",
    "    # Update the parameters of the model :\n",
    "    with tqdm(total=len(train_loader), desc=f\"Epoch {epoch + 1}/{num_epochs}\") as pbar:\n",
    "        for batch_index, batch in enumerate(train_loader):\n",
    "            # 1. Prepare trin data :\n",
    "            input_ids = batch['input_ids'].to(device)\n",
    "            attention_mask = batch['attention_mask'].to(device)\n",
    "            labels = batch['labels'].to(device)\n",
    "\n",
    "            # 2. Forward pass\n",
    "            optimizer.zero_grad()\n",
    "            outputs = model(input_ids, attention_mask=attention_mask)\n",
    "            logits = outputs['logits']\n",
    "            loss = F.cross_entropy(logits.view(-1, logits.size(-1)), labels.view(-1), ignore_index=-100)\n",
    "\n",
    "            # 3. Backward pass et optimisation\n",
    "            loss.backward()\n",
    "            optimizer.step()\n",
    "\n",
    "            # Suivi de la progression\n",
    "            train_loss += loss.item()\n",
    "            pbar.set_postfix({'loss': loss.item()})\n",
    "            pbar.update(1)\n",
    "        \n",
    "    avg_train_loss = train_loss / len(train_loader)\n",
    "\n",
    "    t1 = time.time()\n",
    "    dt = t1 - t0 # time difference in seconds\n",
    "    print(f\"Epoch {epoch + 1}, Training Loss: {avg_train_loss:.4f}, Epoch time: {dt:.2f} s\")\n",
    "\n",
    "    # Sauvegarder la perte moyenne de l'époque\n",
    "    history['train_loss'].append(avg_train_loss)\n",
    "\n",
    "    # Sauvegarder tous les 40 epochs\n",
    "    if (epoch + 1) % save_interval == 0 or (epoch + 1) == num_epochs:\n",
    "        save_checkpoint(epoch + 1, model, optimizer, avg_train_loss, save_dir)"
   ]
  },
  {
   "cell_type": "code",
   "execution_count": null,
   "metadata": {},
   "outputs": [],
   "source": []
  },
  {
   "cell_type": "code",
   "execution_count": null,
   "metadata": {},
   "outputs": [
    {
     "name": "stderr",
     "output_type": "stream",
     "text": [
      "Some weights of the model checkpoint at camembert-base were not used when initializing CamembertForMaskedLM: ['roberta.pooler.dense.bias', 'roberta.pooler.dense.weight']\n",
      "- This IS expected if you are initializing CamembertForMaskedLM from the checkpoint of a model trained on another task or with another architecture (e.g. initializing a BertForSequenceClassification model from a BertForPreTraining model).\n",
      "- This IS NOT expected if you are initializing CamembertForMaskedLM from the checkpoint of a model that you expect to be exactly identical (initializing a BertForSequenceClassification model from a BertForSequenceClassification model).\n",
      "Epoch 1/820: 100%|██████████| 1/1 [01:10<00:00, 70.62s/it, loss=10.4]\n"
     ]
    },
    {
     "name": "stdout",
     "output_type": "stream",
     "text": [
      "Epoch 1, Average Loss: 10.3903\n"
     ]
    },
    {
     "name": "stderr",
     "output_type": "stream",
     "text": [
      "Epoch 2/820: 100%|██████████| 1/1 [00:48<00:00, 48.09s/it, loss=10.2]\n"
     ]
    },
    {
     "name": "stdout",
     "output_type": "stream",
     "text": [
      "Epoch 2, Average Loss: 10.2310\n"
     ]
    },
    {
     "name": "stderr",
     "output_type": "stream",
     "text": [
      "Epoch 3/820: 100%|██████████| 1/1 [00:29<00:00, 29.44s/it, loss=10]\n"
     ]
    },
    {
     "name": "stdout",
     "output_type": "stream",
     "text": [
      "Epoch 3, Average Loss: 10.0313\n"
     ]
    },
    {
     "name": "stderr",
     "output_type": "stream",
     "text": [
      "Epoch 4/820: 100%|██████████| 1/1 [00:29<00:00, 29.84s/it, loss=9.91]\n"
     ]
    },
    {
     "name": "stdout",
     "output_type": "stream",
     "text": [
      "Epoch 4, Average Loss: 9.9097\n"
     ]
    },
    {
     "name": "stderr",
     "output_type": "stream",
     "text": [
      "Epoch 5/820: 100%|██████████| 1/1 [00:27<00:00, 27.15s/it, loss=9.79]\n"
     ]
    },
    {
     "name": "stdout",
     "output_type": "stream",
     "text": [
      "Epoch 5, Average Loss: 9.7935\n"
     ]
    },
    {
     "name": "stderr",
     "output_type": "stream",
     "text": [
      "Epoch 6/820: 100%|██████████| 1/1 [00:29<00:00, 29.26s/it, loss=9.68]\n"
     ]
    },
    {
     "name": "stdout",
     "output_type": "stream",
     "text": [
      "Epoch 6, Average Loss: 9.6839\n"
     ]
    },
    {
     "name": "stderr",
     "output_type": "stream",
     "text": [
      "Epoch 7/820: 100%|██████████| 1/1 [00:27<00:00, 27.45s/it, loss=9.57]\n"
     ]
    },
    {
     "name": "stdout",
     "output_type": "stream",
     "text": [
      "Epoch 7, Average Loss: 9.5696\n"
     ]
    },
    {
     "name": "stderr",
     "output_type": "stream",
     "text": [
      "Epoch 8/820:   0%|          | 0/1 [00:00<?, ?it/s]"
     ]
    }
   ],
   "source": [
    "train_data = load_tokenized_data(\"data/tokenized_data/tokenized_train_data.pkl\")\n",
    "val_data = load_tokenized_data(\"data/tokenized_data/tokenized_val_data.pkl\")\n",
    "\n",
    "# Créer les datasets\n",
    "train_dataset = Tokenized_oscar_dataset(train_data)\n",
    "val_dataset = Tokenized_oscar_dataset(val_data)\n",
    "\n",
    "# Créer les DataLoaders\n",
    "batch_size = 4096\n",
    "train_loader = DataLoader(train_dataset, batch_size=batch_size, shuffle=True)\n",
    "val_loader = DataLoader(val_dataset, batch_size=batch_size, shuffle=False)\n",
    "\n",
    "# Configuration\n",
    "device = torch.device(\"cuda\" if torch.cuda.is_available() else \"cpu\")\n",
    "model = model.to(device)\n",
    "\n",
    "num_epochs = 420  # Total epochs\n",
    "learning_rate = 1e-4\n",
    "optimizer = torch.optim.AdamW(model.parameters(), lr=learning_rate)\n",
    "history = {'train_loss': []}\n",
    "\n",
    "# Dossier de sauvegarde\n",
    "save_dir = \"models/mlm_training/model_checkpoints\"\n",
    "os.makedirs(save_dir, exist_ok=True)\n",
    "\n",
    "def save_checkpoint(epoch, model, optimizer, loss, save_dir):\n",
    "    \"\"\"\n",
    "    Sauvegarder l'état actuel du modèle, optimiseur et perte.\n",
    "    \"\"\"\n",
    "    checkpoint = {\n",
    "        \"epoch\": epoch,\n",
    "        \"model_state_dict\": model.state_dict(),\n",
    "        \"optimizer_state_dict\": optimizer.state_dict(),\n",
    "        \"loss\": loss,\n",
    "    }\n",
    "    save_path = os.path.join(save_dir, f\"checkpoint_epoch_{epoch}.pth\")\n",
    "    torch.save(checkpoint, save_path)\n",
    "    print(f\"Checkpoint saved at {save_path}\")\n",
    "\n",
    "# Training Loop\n",
    "for epoch in range(num_epochs):\n",
    "    model.train()  # Mettre le modèle en mode entraînement\n",
    "    epoch_loss = 0.0  # Accumulateur pour la perte par époque\n",
    "\n",
    "    # Utiliser tqdm pour la progression\n",
    "    with tqdm(total=len(train_loader), desc=f\"Epoch {epoch + 1}/{num_epochs}\") as pbar:\n",
    "        for batch_index, batch in enumerate(train_loader):\n",
    "            # 1. Préparer les données\n",
    "            input_ids = batch['input_ids'].to(device)\n",
    "            attention_mask = batch['attention_mask'].to(device)\n",
    "            labels = batch['labels'].to(device)\n",
    "\n",
    "            # 2. Forward pass\n",
    "            optimizer.zero_grad()\n",
    "            outputs = model(input_ids, attention_mask=attention_mask)\n",
    "            logits = outputs['logits']\n",
    "            loss = F.cross_entropy(logits.view(-1, logits.size(-1)), labels.view(-1), ignore_index=-100)\n",
    "\n",
    "            # 3. Backward pass et optimisation\n",
    "            loss.backward()\n",
    "            optimizer.step()\n",
    "\n",
    "            # Suivi de la progression\n",
    "            epoch_loss += loss.item()\n",
    "            pbar.set_postfix({'loss': loss.item()})\n",
    "            pbar.update(1)\n",
    "\n",
    "    # Sauvegarder la perte moyenne de l'époque\n",
    "    avg_epoch_loss = epoch_loss / len(train_loader)\n",
    "    history['train_loss'].append(avg_epoch_loss)\n",
    "    print(f\"Epoch {epoch + 1}, Average Loss: {avg_epoch_loss:.4f}\")\n",
    "\n",
    "    # Sauvegarder tous les 50 epochs\n",
    "    if (epoch + 1) % 50 == 0 or (epoch + 1) == num_epochs:\n",
    "        save_checkpoint(epoch + 1, model, optimizer, avg_epoch_loss, save_dir)"
   ]
  },
  {
   "cell_type": "code",
   "execution_count": null,
   "metadata": {},
   "outputs": [],
   "source": []
  },
  {
   "cell_type": "code",
   "execution_count": null,
   "metadata": {},
   "outputs": [],
   "source": []
  },
  {
   "cell_type": "code",
   "execution_count": null,
   "metadata": {},
   "outputs": [],
   "source": []
  },
  {
   "cell_type": "code",
   "execution_count": null,
   "metadata": {},
   "outputs": [],
   "source": []
  },
  {
   "cell_type": "code",
   "execution_count": null,
   "metadata": {},
   "outputs": [],
   "source": []
  },
  {
   "cell_type": "code",
   "execution_count": null,
   "metadata": {},
   "outputs": [],
   "source": []
  },
  {
   "cell_type": "code",
   "execution_count": null,
   "metadata": {},
   "outputs": [],
   "source": []
  },
  {
   "cell_type": "code",
   "execution_count": null,
   "metadata": {},
   "outputs": [],
   "source": []
  },
  {
   "cell_type": "code",
   "execution_count": 141,
   "metadata": {},
   "outputs": [],
   "source": [
    "batch = next(iter(train_loader))\n",
    "\n",
    "input_ids = batch['input_ids']\n",
    "attention_mask = batch['attention_mask']\n",
    "labels = batch['labels']\n",
    "# 2. forward pass :\n",
    "optimizer.zero_grad()\n",
    "outputs = model(input_ids, attention_mask=attention_mask)\n",
    "predictions = outputs['logits'].argmax(dim=2)"
   ]
  }
 ],
 "metadata": {
  "kernelspec": {
   "display_name": "Python 3",
   "language": "python",
   "name": "python3"
  },
  "language_info": {
   "codemirror_mode": {
    "name": "ipython",
    "version": 3
   },
   "file_extension": ".py",
   "mimetype": "text/x-python",
   "name": "python",
   "nbconvert_exporter": "python",
   "pygments_lexer": "ipython3",
   "version": "3.11.10"
  }
 },
 "nbformat": 4,
 "nbformat_minor": 2
}

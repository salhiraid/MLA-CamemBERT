{
 "cells": [
  {
   "cell_type": "code",
   "execution_count": 1,
   "metadata": {},
   "outputs": [],
   "source": [
    "from datasets import load_dataset\n",
    "\n",
    "# Load the OSCAR dataset in streaming mode\n",
    "dataset = load_dataset(\"oscar\", \"unshuffled_deduplicated_fr\", split=\"train\", streaming=True)\n",
    "\n",
    "# Limit the dataset size to approximately 4GB\n",
    "subset_size = 4 * 1024**3  # 4GB in bytes\n",
    "current_size = 0\n",
    "subset = []\n",
    "\n",
    "for example in dataset:\n",
    "    text = example[\"text\"]  # Only use the \"text\" field\n",
    "    current_size += len(text.encode(\"utf-8\"))  # Estimate size in bytes\n",
    "    subset.append(text)  # Keep only the text\n",
    "    if current_size >= subset_size:\n",
    "        break\n"
   ]
  },
  {
   "cell_type": "code",
   "execution_count": 2,
   "metadata": {},
   "outputs": [],
   "source": [
    "# Save the subset to a text file\n",
    "with open(\"oscar_text_subset.txt\", \"w\", encoding=\"utf-8\") as f:\n",
    "    for line in subset:\n",
    "        f.write(line + \"\\n\")\n"
   ]
  },
  {
   "cell_type": "code",
   "execution_count": 3,
   "metadata": {},
   "outputs": [],
   "source": [
    "# Reload the text-only dataset\n",
    "with open(\"oscar_text_subset.txt\", \"r\", encoding=\"utf-8\") as f:\n",
    "    subset = [line.strip() for line in f]\n"
   ]
  },
  {
   "cell_type": "code",
   "execution_count": null,
   "metadata": {},
   "outputs": [],
   "source": [
    "from transformers import CamembertTokenizer\n",
    "\n",
    "# Load CamemBERT tokenizer\n",
    "tokenizer = CamembertTokenizer.from_pretrained(\"camembert-base\")\n",
    "\n",
    "# Tokenize the text data\n",
    "tokenized_data = [tokenizer(text, truncation=True, max_length=512) for text in subset]\n"
   ]
  },
  {
   "cell_type": "code",
   "execution_count": null,
   "metadata": {},
   "outputs": [],
   "source": [
    "from transformers import DataCollatorForLanguageModeling\n",
    "from torch.utils.data import DataLoader\n",
    "\n",
    "# Data collator for MLM\n",
    "data_collator = DataCollatorForLanguageModeling(\n",
    "    tokenizer=tokenizer, mlm=True, mlm_probability=0.15\n",
    ")\n",
    "\n",
    "# Convert tokenized data into a PyTorch DataLoader\n",
    "dataloader = DataLoader(tokenized_data, batch_size=8, shuffle=True, collate_fn=data_collator)\n"
   ]
  },
  {
   "cell_type": "code",
   "execution_count": null,
   "metadata": {},
   "outputs": [],
   "source": []
  }
 ],
 "metadata": {
  "kernelspec": {
   "display_name": "Python 3 (ipykernel)",
   "language": "python",
   "name": "python3"
  },
  "language_info": {
   "codemirror_mode": {
    "name": "ipython",
    "version": 3
   },
   "file_extension": ".py",
   "mimetype": "text/x-python",
   "name": "python",
   "nbconvert_exporter": "python",
   "pygments_lexer": "ipython3",
   "version": "3.10.12"
  }
 },
 "nbformat": 4,
 "nbformat_minor": 4
}

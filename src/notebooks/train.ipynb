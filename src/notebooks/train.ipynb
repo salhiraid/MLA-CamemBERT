{
 "cells": [
  {
   "cell_type": "code",
   "execution_count": null,
   "metadata": {},
   "outputs": [],
   "source": []
  },
  {
   "cell_type": "code",
   "execution_count": null,
   "metadata": {},
   "outputs": [],
   "source": []
  },
  {
   "cell_type": "code",
   "execution_count": null,
   "metadata": {},
   "outputs": [],
   "source": []
  },
  {
   "cell_type": "code",
   "execution_count": null,
   "metadata": {},
   "outputs": [],
   "source": []
  },
  {
   "cell_type": "code",
   "execution_count": null,
   "metadata": {},
   "outputs": [],
   "source": []
  },
  {
   "cell_type": "code",
   "execution_count": null,
   "metadata": {},
   "outputs": [],
   "source": []
  },
  {
   "cell_type": "code",
   "execution_count": 1,
   "metadata": {},
   "outputs": [
    {
     "name": "stderr",
     "output_type": "stream",
     "text": [
      "c:\\Users\\Napster\\anaconda3\\envs\\bert\\Lib\\site-packages\\tqdm\\auto.py:21: TqdmWarning: IProgress not found. Please update jupyter and ipywidgets. See https://ipywidgets.readthedocs.io/en/stable/user_install.html\n",
      "  from .autonotebook import tqdm as notebook_tqdm\n"
     ]
    }
   ],
   "source": [
    "from datasets import load_dataset\n",
    "from torch.utils.data import Dataset, DataLoader\n",
    "from transformers import CamembertTokenizer\n",
    "from datasets import load_from_disk\n",
    "\n",
    "from dataset import OscarDataset\n",
    "\n",
    "dataset_path = r\"C:\\Users\\Napster\\Desktop\\M2_ISI\\MLA\\CamemBERT\\MLA-CamemBERT\\data\\oscar.Arrow\"\n",
    "hf_dataset = load_from_disk(dataset_path)\n",
    "\n",
    "tokenizer = CamembertTokenizer.from_pretrained(\"camembert-base\")\n",
    "torch_dataset = OscarDataset(hf_dataset, tokenizer)\n",
    "\n",
    "dataloader = DataLoader(torch_dataset, batch_size=16) #, shuffle=True"
   ]
  },
  {
   "cell_type": "code",
   "execution_count": 20,
   "metadata": {},
   "outputs": [],
   "source": [
    "tokens = tokenizer(\n",
    "    hf_dataset[0]['text'],\n",
    "    padding='max_length',\n",
    "    truncation=True,\n",
    "    #max_length=512,\n",
    "    return_tensors='pt'\n",
    ")"
   ]
  },
  {
   "cell_type": "code",
   "execution_count": 21,
   "metadata": {},
   "outputs": [
    {
     "name": "stdout",
     "output_type": "stream",
     "text": [
      "<class 'dict'>\n",
      "3\n"
     ]
    }
   ],
   "source": [
    "batch = next(iter(dataloader))\n",
    "print(type(batch))\n",
    "print(len(batch))"
   ]
  },
  {
   "cell_type": "code",
   "execution_count": 22,
   "metadata": {},
   "outputs": [
    {
     "name": "stdout",
     "output_type": "stream",
     "text": [
      "dict_keys(['input_ids', 'attention_mask', 'text'])\n"
     ]
    },
    {
     "data": {
      "text/plain": [
       "\"Gardez l’œil sur toutes les images publiées sur le web en lien avec votre marque. Une analyse poussée des images diffusées par les internautes mais aussi des contenus visuels provenant de vos concurrents.\\nDes applications multiples qui vont de la simple analyse des contenus publiés jusqu’à la surveillance des contrefaçons. ImageTracker scanne ainsi les visuels provenant des réseaux sociaux Pinterest, Twitter et Instagram.\\nVisibility Index\\t\\nSocial Networks Analytics\\t\\nOPINION TRACKER®, une solution\\t\\nGroupe 361 est une agence de communication globale.\\nLa vision 361 est qu'aujourd'hui, plus que jamais, les marques doivent évoluer dans des environnements complexes où les marchés sont devenus des conversations.\\t\\nPlan du site\\nMentions légales\\nContactez-nous\\nLigne directe : 01 76 21 68 30\\nEtre contacté\\nVous souhaitez en savoir plus sur notre solution OPINION TRACKER® ? Complétez le formulaire ci-dessous, un de nos experts prendra contact avec vous rapidement.\\nNom* Prénom\\nSociété Fonction\\nEmail professionnel* Téléphone*\\nSujet* - Préciser -Demande d’infos généralesAvoir des précisions sur les fonctionnalitésEchanger sur un projet à venirProposition de consultationAutre :\\nRecevoir notre plaquette\\nRenseignez les champs ci-dessous pour recevoir notre plaquette.\\nNom* Prenom\\nEmail professionnel* Téléphone\\nSociété* Fonction\\nDemander une démo\\nRenseignez les champs ci-dessous, nous vous recontacterons rapidement.\\nNom* Prénom\\nEmail professionnel* Téléphone*\\nSociété* Fonction*\\nDate de lancement de votre projet* - Préciser -Entre 1 et 3 moisEntre 3 et 6 moisEntre 6 mois et 1 anPlus d’1 anPas de date définie\\nContactez-nous\\nVous souhaitez en savoir plus sur notre solution OPINION TRACKER® ? Complétez le formulaire ci-dessous, un de nos experts prendra contact avec vous rapidement.\""
      ]
     },
     "execution_count": 22,
     "metadata": {},
     "output_type": "execute_result"
    }
   ],
   "source": [
    "print(batch.keys())\n",
    "text = batch['text'][0]\n",
    "text"
   ]
  },
  {
   "cell_type": "code",
   "execution_count": 17,
   "metadata": {},
   "outputs": [
    {
     "data": {
      "text/plain": [
       "tensor([    5, 23213,    17,    12,  4255,    32,   208,    19,  1004, 12358,\n",
       "           32,    16,   939,    22,   818,    42,    75,   587,     9,   180,\n",
       "         2646, 10929,    20,  1004,  9143,    10,    37,    19,  5548,    65,\n",
       "           99,    20,  4019, 11453,  6030,     8,   140,  8416,     9,   363,\n",
       "         2592,  2523,    31,   774,     8,    13,   445,  2646,    20,  4019,\n",
       "         9241,   257,    12,   169,    13,  3848,    20, 21611,    10,     9,\n",
       "        10265, 15321,  7740, 19771,   324,   163,    19, 11453,  6030,    20,\n",
       "         1517,  1148, 14413,     7,  4651,    14,  8712,     9, 13836, 19945,\n",
       "         1933,  7996, 12553, 20071,    10, 26559, 15378,  2376, 11462,   309,\n",
       "        20270, 26904,     3,     7,    28,   932,  2772,   135,  5648,    30,\n",
       "           28,  2985,     8,  1006,  4141,     9,    61,  1588,   135,  5648,\n",
       "           30,    46,    11,  3462,    11,   265,     7,    40,    27,   283,\n",
       "            7,    19,  1977,   750,  5120,    29,    20,  1898,    10,  5577,\n",
       "          147,    19,  3020,    56,  8451,    20, 14232,     9,  1664,    25,\n",
       "          132, 14181,    10,  8070,  7610,    26,  1474,  8329,  3886,    43,\n",
       "         3455,  7976,   727,  6630,   417, 13945, 10919,   158,  1340,    22,\n",
       "          319,    40,    32,   127,   932, 15378,  2376, 11462,   309, 20270,\n",
       "        26904,     3,   106,  4231,  1357,  4731,    16,  2738,   642,    26,\n",
       "         1568,     7,    23,     8,   166,  3510,  7020,  1002,    42,    39,\n",
       "          736,     9,  5357,  1363, 26080,  2157,  8219, 25790,  1166,  1363,\n",
       "        13049,  1363,  6232,  1363,    67, 21313,   108,    67,  4217,  4428,\n",
       "           35,    18,    12, 12149,  5335,   243,  1419,    20, 14277,    32,\n",
       "           19,  4241,   399,  8910,    81,    32,    23,   327,    15,   894,\n",
       "         5114,  6937,     8,  4032, 16024,    43,   568,   291,  1419,   127,\n",
       "        25670, 30572,    19,  4044,   642,    26,  1568,    24,  1653,   127,\n",
       "        25670,     9,  5357,  1363,  8666,  4514, 25790,  1166,  1363, 13049,\n",
       "         2157,  1363,  8219, 12057,    81,    28,  9346, 30572,    19,  4044,\n",
       "          642,    26,  1568,     7,    63,    39, 31148,   273,   736,     9,\n",
       "         5357,  1363, 26080, 25790,  1166,  1363, 13049,  1363,  2157,  1363,\n",
       "         8219,  1363,  5661,     8,  3864,     8,    75,   327,  1363,    67,\n",
       "        21313,   108,    67, 23793,   124,    14,   135,   250, 23793,   135,\n",
       "           14,   260,   250, 23793,   260,   250,    14,   124,   674,  5076,\n",
       "           18,    12,   367,   674,  9382,     8,   749, 12022,  7610,    26,\n",
       "         1474,   158,  1340,    22,   319,    40,    32,   127,   932, 15378,\n",
       "         2376, 11462,   309, 20270, 26904,     3,   106,  4231,  1357,  4731,\n",
       "           16,  2738,   642,    26,  1568,     7,    23,     8,   166,  3510,\n",
       "         7020,  1002,    42,    39,   736,     9,     6,     1,     1,     1,\n",
       "            1,     1,     1,     1,     1,     1,     1,     1,     1,     1,\n",
       "            1,     1,     1,     1,     1,     1,     1,     1,     1,     1,\n",
       "            1,     1,     1,     1,     1,     1,     1,     1,     1,     1,\n",
       "            1,     1,     1,     1,     1,     1,     1,     1,     1,     1,\n",
       "            1,     1,     1,     1,     1,     1,     1,     1,     1,     1,\n",
       "            1,     1,     1,     1,     1,     1,     1,     1,     1,     1,\n",
       "            1,     1,     1,     1,     1,     1,     1,     1,     1,     1,\n",
       "            1,     1,     1,     1,     1,     1,     1,     1,     1,     1,\n",
       "            1,     1,     1,     1,     1,     1,     1,     1,     1,     1,\n",
       "            1,     1,     1,     1,     1,     1,     1,     1,     1,     1,\n",
       "            1,     1,     1,     1,     1,     1,     1,     1,     1,     1,\n",
       "            1,     1,     1,     1,     1,     1,     1,     1,     1,     1,\n",
       "            1,     1,     1,     1,     1,     1,     1,     1,     1,     1,\n",
       "            1,     1,     1,     1,     1,     1,     1,     1,     1,     1,\n",
       "            1,     1])"
      ]
     },
     "execution_count": 17,
     "metadata": {},
     "output_type": "execute_result"
    }
   ],
   "source": [
    "input_ids = batch['input_ids'][0]\n",
    "input_ids"
   ]
  },
  {
   "cell_type": "code",
   "execution_count": 5,
   "metadata": {},
   "outputs": [
    {
     "name": "stdout",
     "output_type": "stream",
     "text": [
      "Batch 1:\n",
      "{'input_ids': tensor([[    5, 21060, 14330,  ...,     1,     1,     1],\n",
      "        [    5, 15081,    43,  ...,     1,     1,     1],\n",
      "        [    5,    74,  3153,  ...,     1,     1,     1],\n",
      "        ...,\n",
      "        [    5,    64, 28149,  ...,  6357,  1274,     6],\n",
      "        [    5,  5012, 17002,  ...,     1,     1,     1],\n",
      "        [    5,    21,     3,  ...,     1,     1,     1]]), 'attention_mask': tensor([[1, 1, 1,  ..., 0, 0, 0],\n",
      "        [1, 1, 1,  ..., 0, 0, 0],\n",
      "        [1, 1, 1,  ..., 0, 0, 0],\n",
      "        ...,\n",
      "        [1, 1, 1,  ..., 1, 1, 1],\n",
      "        [1, 1, 1,  ..., 0, 0, 0],\n",
      "        [1, 1, 1,  ..., 0, 0, 0]])}\n"
     ]
    }
   ],
   "source": [
    "for i, batch in enumerate(dataloader):\n",
    "    print(f\"Batch {i+1}:\")\n",
    "    print(batch)\n",
    "    if i >= 1:\n",
    "        break"
   ]
  },
  {
   "cell_type": "code",
   "execution_count": null,
   "metadata": {},
   "outputs": [],
   "source": []
  }
 ],
 "metadata": {
  "kernelspec": {
   "display_name": "Python 3",
   "language": "python",
   "name": "python3"
  },
  "language_info": {
   "codemirror_mode": {
    "name": "ipython",
    "version": 3
   },
   "file_extension": ".py",
   "mimetype": "text/x-python",
   "name": "python",
   "nbconvert_exporter": "python",
   "pygments_lexer": "ipython3",
   "version": "3.11.10"
  }
 },
 "nbformat": 4,
 "nbformat_minor": 2
}

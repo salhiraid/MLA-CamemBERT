{
 "cells": [
  {
   "cell_type": "markdown",
   "metadata": {},
   "source": [
    "# Downloading the OSCAR Dataset for CamemBERT Pretraining\n",
    "\n",
    "In this notebook, we download the OSCAR dataset to perform the pretraining of the **CamemBERT** language model.\n",
    "\n",
    "## Prerequisites\n",
    "1. Ensure you are logged into **Hugging Face**:\n",
    "   - Run the following command in your terminal to authenticate:\n",
    "     ```bash\n",
    "     huggingface-cli login\n",
    "     ```\n",
    "   - This will prompt you to enter your Hugging Face token. You can generate a token from [Hugging Face Settings](https://huggingface.co/settings/tokens).\n",
    "\n",
    "2. Accept the dataset usage conditions on Hugging Face:\n",
    "   - Visit the [OSCAR dataset page](https://huggingface.co/datasets/oscar-corpus/OSCAR-2201) and click on **\"Request Access\"** if needed.\n",
    "\n",
    "## Steps in this Notebook\n",
    "- Download the OSCAR dataset in the desired language.\n",
    "- Preprocess the dataset for training.\n",
    "- Begin pretraining the CamemBERT model.\n",
    "\n",
    "> Once you have completed the prerequisites, you can run the code below to proceed.\n"
   ]
  },
  {
   "cell_type": "code",
   "execution_count": null,
   "metadata": {},
   "outputs": [],
   "source": [
    "from huggingface_hub import whoami\n",
    "\n",
    "# Vérifiez votre identité sur Hugging Face\n",
    "user_info = whoami()\n",
    "print(f\"Vous êtes connecté en tant que : {user_info['name']}\")"
   ]
  },
  {
   "cell_type": "code",
   "execution_count": null,
   "metadata": {},
   "outputs": [],
   "source": [
    "from datasets import load_dataset\n",
    "\n",
    "dataset = load_dataset(\"oscar-corpus/OSCAR-2201\",\n",
    "                        #use_auth_token=True, # required\n",
    "                        language=\"fr\", \n",
    "                        streaming=False, # download locally\n",
    "                        split=\"train\",\n",
    "                        cache_dir='CamemBERT/data',\n",
    "                        trust_remote_code=True) # optional\n"
   ]
  },
  {
   "cell_type": "code",
   "execution_count": null,
   "metadata": {},
   "outputs": [],
   "source": [
    "# Explorer quelques exemples du dataset\n",
    "print(\"Quelques exemples de données dans le dataset OSCAR :\\n\")\n",
    "\n",
    "# Parcourir les premières lignes\n",
    "for i, example in enumerate(dataset):\n",
    "    print(f\"Exemple {i + 1}: {example}\\n\")\n",
    "    if i >= 1:  # Afficher seulement les 5 premiers exemples\n",
    "        break"
   ]
  },
  {
   "cell_type": "code",
   "execution_count": null,
   "metadata": {},
   "outputs": [],
   "source": []
  }
 ],
 "metadata": {
  "kernelspec": {
   "display_name": "Python 3",
   "language": "python",
   "name": "python3"
  },
  "language_info": {
   "codemirror_mode": {
    "name": "ipython",
    "version": 3
   },
   "file_extension": ".py",
   "mimetype": "text/x-python",
   "name": "python",
   "nbconvert_exporter": "python",
   "pygments_lexer": "ipython3",
   "version": "3.11.10"
  }
 },
 "nbformat": 4,
 "nbformat_minor": 2
}
